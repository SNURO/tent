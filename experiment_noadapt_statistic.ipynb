{
 "cells": [
  {
   "cell_type": "code",
   "execution_count": 1,
   "metadata": {},
   "outputs": [],
   "source": [
    "import numpy as np\n",
    "import pandas as pd\n",
    "import matplotlib.pyplot as plt\n",
    "\n",
    "%matplotlib inline\n",
    "\n",
    "debug_mode = True\n",
    "\n",
    "if debug_mode:\n",
    "    corruption_list = ['gaussian_noise']\n",
    "else:\n",
    "    corruption_list = ['gaussian_noise', 'shot_noise', 'impulse_noise', 'defocus_blur', 'glass_blur', 'motion_blur', 'zoom_blur', 'snow', 'frost', 'fog', 'brightness',\n",
    "                        'contrast', 'elastic_transform', 'pixelate', 'jpeg_compression']\n",
    "    \n",
    "num_data = 10000"
   ]
  },
  {
   "cell_type": "code",
   "execution_count": 3,
   "metadata": {},
   "outputs": [
    {
     "name": "stdout",
     "output_type": "stream",
     "text": [
      "                 0\n",
      "count  7122.000000\n",
      "mean      8.919738\n",
      "std       1.970250\n",
      "min       2.313799\n",
      "25%       7.626440\n",
      "50%       9.227612\n",
      "75%      10.339350\n",
      "max      14.628362\n",
      "                 0\n",
      "count  2878.000000\n",
      "mean      6.885635\n",
      "std       1.995839\n",
      "min       1.848309\n",
      "25%       5.463411\n",
      "50%       6.742872\n",
      "75%       8.174570\n",
      "max      13.657744\n",
      "                 0\n",
      "count  7122.000000\n",
      "mean      4.501981\n",
      "std      60.915314\n",
      "min   -3137.954346\n",
      "25%       1.872262\n",
      "50%       3.242608\n",
      "75%       5.843993\n",
      "max    1167.068726\n",
      "                 0\n",
      "count  2878.000000\n",
      "mean      2.154405\n",
      "std       2.875729\n",
      "min       1.000110\n",
      "25%       1.203452\n",
      "50%       1.545611\n",
      "75%       2.277005\n",
      "max      84.149963\n"
     ]
    },
    {
     "data": {
      "image/png": "[encoded data removed]",
      "text/plain": [
       "<Figure size 640x480 with 1 Axes>"
      ]
     },
     "metadata": {},
     "output_type": "display_data"
    }
   ],
   "source": [
    "i=0\n",
    "\n",
    "for corruption in corruption_list:\n",
    "    save_dir = f'./noadapt_stats/{corruption}.npy'\n",
    "    outputs = np.load(save_dir)\n",
    "\n",
    "    data_dir = \"/gallery_tate/wonjae.roh/cifar10c\"\n",
    "    labels_path = data_dir + '/labels.npy'\n",
    "    labels = np.load(labels_path)\n",
    "    labels = labels[:num_data]\n",
    "\n",
    "    correct = outputs.argmax(axis=1)==labels\n",
    "    wrong = ~correct\n",
    "\n",
    "    correct_outputs = outputs[correct]\n",
    "    wrong_outputs = outputs[wrong]\n",
    "\n",
    "    correct_describe = pd.DataFrame(correct_outputs.max(1))\n",
    "\n",
    "    correct_describe = pd.DataFrame(correct_outputs.max(1))\n",
    "    print(correct_describe.describe())\n",
    "    wrong_describe = pd.DataFrame(wrong_outputs.max(1))\n",
    "    print(wrong_describe.describe())\n",
    "\n",
    "    correct_probs = np.sort(correct_outputs, axis=1)\n",
    "    correct_probs = correct_probs[:,::-1]\n",
    "    correct_ratio = correct_probs[:,0] / correct_probs[:,1]\n",
    "    print(pd.DataFrame(correct_ratio).describe())\n",
    "\n",
    "    wrong_probs = np.sort(wrong_outputs, axis=1)\n",
    "    wrong_probs = wrong_probs[:,::-1]\n",
    "    wrong_ratio = wrong_probs[:,0] / wrong_probs[:,1]\n",
    "    print(pd.DataFrame(wrong_ratio).describe())\n",
    "\n",
    "    plt.figure(i)\n",
    "    plt.hist(correct_describe, bins=100, density=False, alpha=0.5, histtype='stepfilled', color='orange', edgecolor='none')\n",
    "    plt.hist(wrong_describe, bins=100, density=False, alpha=0.5, histtype='stepfilled', color='steelblue', edgecolor='none')\n",
    "    i+=1\n",
    "\n"
   ]
  },
  {
   "cell_type": "code",
   "execution_count": 10,
   "metadata": {},
   "outputs": [
    {
     "name": "stdout",
     "output_type": "stream",
     "text": [
      "high entropy accuracy : 0    0.864302\n",
      "dtype: float64\n",
      "low entropy accuracy : 0    0.50155\n",
      "dtype: float64\n"
     ]
    }
   ],
   "source": [
    "threshold = 8.0\n",
    "\n",
    "correct_high = np.sum(correct_describe > threshold)\n",
    "correct_low = np.sum(correct_describe < threshold)\n",
    "wrong_high = np.sum(wrong_describe > threshold)\n",
    "wrong_low = np.sum(wrong_describe < threshold)\n",
    "\n",
    "print(f'high entropy accuracy : {correct_high / (correct_high + wrong_high)}') # actually confidence, not entropy \n",
    "print(f'low entropy accuracy : {correct_low / (correct_low + wrong_low)}')"
   ]
  }
 ],
 "metadata": {
  "kernelspec": {
   "display_name": "TENT",
   "language": "python",
   "name": "python3"
  },
  "language_info": {
   "codemirror_mode": {
    "name": "ipython",
    "version": 3
   },
   "file_extension": ".py",
   "mimetype": "text/x-python",
   "name": "python",
   "nbconvert_exporter": "python",
   "pygments_lexer": "ipython3",
   "version": "3.8.16"
  },
  "orig_nbformat": 4
 },
 "nbformat": 4,
 "nbformat_minor": 2
}
