{
 "cells": [
  {
   "cell_type": "code",
   "execution_count": 1,
   "metadata": {},
   "outputs": [],
   "source": [
    "import logging\n",
    "\n",
    "import torch\n",
    "import torch.optim as optim\n",
    "\n",
    "from robustbench.data import load_cifar10c\n",
    "from robustbench.model_zoo.enums import ThreatModel\n",
    "from robustbench.utils import load_model\n",
    "from nets import *\n",
    "\n",
    "import time\n",
    "import tent\n",
    "import norm\n",
    "import oracle\n",
    "from utils import *\n",
    "from matplotlib import pyplot as plt\n",
    "\n",
    "\n",
    "import ipdb\n",
    "\n",
    "from conf import cfg, load_cfg_fom_args, merge_from_file\n",
    "\n",
    "corruption_list = ['gaussian_noise', 'shot_noise', 'impulse_noise', 'defocus_blur', 'glass_blur', 'motion_blur', 'zoom_blur', 'snow', 'frost', 'fog', 'brightness',\n",
    "                        'contrast', 'elastic_transform', 'pixelate', 'jpeg_compression']\n"
   ]
  },
  {
   "cell_type": "code",
   "execution_count": 2,
   "metadata": {},
   "outputs": [],
   "source": [
    "logger = logging.getLogger(__name__)\n",
    "#TODO: build multistage.yaml\n",
    "merge_from_file('cfgs/multistage.yaml')\n",
    "device = torch.device(\"cuda\" if torch.cuda.is_available() else \"cpu\")\n",
    "\n",
    "print(cfg)"
   ]
  },
  {
   "cell_type": "markdown",
   "metadata": {},
   "source": [
    "### adaptation 없이 initial high_entropy samples, low_entropy samples index 찾기"
   ]
  },
  {
   "cell_type": "code",
   "execution_count": 3,
   "metadata": {},
   "outputs": [],
   "source": [
    "def setup_tent(model):\n",
    "    \"\"\"Set up tent adaptation.\n",
    "\n",
    "    Configure the model for training + feature modulation by batch statistics,\n",
    "    collect the parameters for feature modulation by gradient optimization,\n",
    "    set up the optimizer, and then tent the model.\n",
    "    \"\"\"\n",
    "    model = tent.configure_model(model)\n",
    "    params, param_names = tent.collect_params(model)\n",
    "    optimizer = setup_optimizer(params)\n",
    "    tent_model = tent.Tent(model, optimizer,\n",
    "                           steps=cfg.OPTIM.STEPS,\n",
    "                           episodic=cfg.MODEL.EPISODIC)\n",
    "    logger.info(f\"model for adaptation: %s\", model)\n",
    "    logger.info(f\"params for adaptation: %s\", param_names)\n",
    "    logger.info(f\"optimizer for adaptation: %s\", optimizer)\n",
    "    return tent_model\n",
    "\n",
    "def setup_optimizer(params):\n",
    "    \"\"\"Set up optimizer for tent adaptation.\n",
    "\n",
    "    Tent needs an optimizer for test-time entropy minimization.\n",
    "    In principle, tent could make use of any gradient optimizer.\n",
    "    In practice, we advise choosing Adam or SGD+momentum.\n",
    "    For optimization settings, we advise to use the settings from the end of\n",
    "    trainig, if known, or start with a low learning rate (like 0.001) if not.\n",
    "\n",
    "    For best results, try tuning the learning rate and batch size.\n",
    "    \"\"\"\n",
    "    if cfg.OPTIM.METHOD == 'Adam':\n",
    "        return optim.Adam(params,\n",
    "                    lr=cfg.OPTIM.LR,\n",
    "                    betas=(cfg.OPTIM.BETA, 0.999),\n",
    "                    weight_decay=cfg.OPTIM.WD)\n",
    "    elif cfg.OPTIM.METHOD == 'SGD':\n",
    "        return optim.SGD(params,\n",
    "                   lr=cfg.OPTIM.LR,\n",
    "                   momentum=cfg.OPTIM.MOMENTUM,\n",
    "                   dampening=cfg.OPTIM.DAMPENING,\n",
    "                   weight_decay=cfg.OPTIM.WD,\n",
    "                   nesterov=cfg.OPTIM.NESTEROV)\n",
    "    else:\n",
    "        raise NotImplementedError\n",
    "    \n",
    "def setup_source(model):\n",
    "    \"\"\"Set up the baseline source model without adaptation.\"\"\"\n",
    "    model.eval()\n",
    "    logger.info(f\"model for evaluation: %s\", model)\n",
    "    return model"
   ]
  },
  {
   "cell_type": "code",
   "execution_count": 5,
   "metadata": {},
   "outputs": [],
   "source": [
    "\n",
    "# configure model\n",
    "\n",
    "if cfg.MODEL.ARCH == \"Hendrycks2020AugMix_WRN\":\n",
    "    base_model = load_model(cfg.MODEL.ARCH, cfg.CKPT_DIR, cfg.CORRUPTION.DATASET, ThreatModel.corruptions).to(device)\n",
    "elif cfg.MODEL.ARCH == \"RN18\":\n",
    "    base_model = ResNet18(n_classes=10)\n",
    "    ckpt = torch.load(\"/home2/wonjae.roh/nprc/tent/ckpt/cifar10/corruptions/ResNet18_pretrained.pth.tar\", map_location=device)\n",
    "    base_model.load_state_dict(ckpt[\"pretrain-learner\"])\n",
    "else:\n",
    "    raise NotImplementedError\n",
    "\n",
    "\n",
    "x_test, y_test = load_cifar10c(cfg.CORRUPTION.NUM_EX, cfg.CORRUPTION.SEVERITY[0], cfg.DATA_DIR, False, cfg.CORRUPTION.TYPE)\n",
    "x_test, y_test = x_test.to(device), y_test.to(device)\n",
    "\n",
    "acc, outputs = get_stats(base_model, x_test, y_test, cfg.TEST.BATCH_SIZE, device=device,\n",
    "                                        iteration=1,\n",
    "                                        corruption_type=cfg.CORRUPTION.TYPE,\n",
    "                                        return_raw=True)\n",
    "\n"
   ]
  },
  {
   "cell_type": "code",
   "execution_count": 6,
   "metadata": {},
   "outputs": [
    {
     "data": {
      "text/plain": [
       "[<matplotlib.lines.Line2D at 0x7f54e1ed9790>]"
      ]
     },
     "execution_count": 6,
     "metadata": {},
     "output_type": "execute_result"
    },
    {
     "data": {
      "image/png": "[encoded data removed]",
      "text/plain": [
       "<Figure size 640x480 with 1 Axes>"
      ]
     },
     "metadata": {},
     "output_type": "display_data"
    }
   ],
   "source": [
    "%matplotlib inline\n",
    "\n",
    "entropy = tent.softmax_entropy(outputs)\n",
    "entropy = torch.log2(entropy)\n",
    "entropy_sorted, entropy_sorted_index = entropy.sort()\n",
    "plt.plot(entropy_sorted.numpy())\n",
    "\n",
    "high_index = entropy_sorted_index[5000:]\n",
    "low_index = entropy_sorted_index[:5000]\n",
    "high_values = entropy[high_index]\n",
    "low_values = entropy[low_index]\n",
    "plt.plot(high_values.numpy())"
   ]
  },
  {
   "cell_type": "markdown",
   "metadata": {},
   "source": [
    "### Correct samples, Wrong samples entropy histogram visualize"
   ]
  },
  {
   "cell_type": "code",
   "execution_count": 7,
   "metadata": {},
   "outputs": [
    {
     "name": "stdout",
     "output_type": "stream",
     "text": [
      "                 0\n",
      "count  7394.000000\n",
      "mean     -4.869987\n",
      "std       3.000118\n",
      "min     -13.319396\n",
      "25%      -7.351274\n",
      "50%      -5.287616\n",
      "75%      -2.287407\n",
      "max       1.105614\n",
      "                 0\n",
      "count  2606.000000\n",
      "mean     -1.267229\n",
      "std       2.000961\n",
      "min     -10.306333\n",
      "25%      -2.086512\n",
      "50%      -0.565217\n",
      "75%       0.149579\n",
      "max       1.067152\n"
     ]
    },
    {
     "data": {
      "text/plain": [
       "(array([  1.,   0.,   0.,   1.,   0.,   3.,   3.,   1.,   1.,   1.,   1.,\n",
       "          2.,   3.,   1.,   2.,   1.,   3.,   0.,   4.,   1.,   2.,   3.,\n",
       "          5.,   3.,   2.,   5.,   3.,   5.,   4.,   7.,   5.,   3.,   8.,\n",
       "          1.,   6.,   3.,   2.,   2.,   8.,  10.,  10.,   3.,  12.,   6.,\n",
       "         10.,   6.,  10.,  13.,  11.,   9.,   9.,   6.,  18.,  12.,  12.,\n",
       "         12.,  17.,  21.,   9.,  22.,  23.,  19.,  23.,  25.,  18.,  21.,\n",
       "         19.,  21.,  31.,  36.,  30.,  30.,  33.,  32.,  35.,  53.,  27.,\n",
       "         39.,  39.,  47.,  57.,  57.,  67.,  67.,  69.,  70., 107.,  94.,\n",
       "        111.,  96., 115., 111., 127., 114., 115.,  99.,  67.,  57.,  38.,\n",
       "         23.]),\n",
       " array([-10.30633259, -10.19259739, -10.07886314,  -9.96512794,\n",
       "         -9.85139275,  -9.7376585 ,  -9.6239233 ,  -9.51018906,\n",
       "         -9.39645386,  -9.28271866,  -9.16898441,  -9.05524921,\n",
       "         -8.94151402,  -8.82777977,  -8.71404457,  -8.60031033,\n",
       "         -8.48657513,  -8.37283993,  -8.25910568,  -8.14537048,\n",
       "         -8.03163528,  -7.91790056,  -7.80416584,  -7.69043112,\n",
       "         -7.5766964 ,  -7.4629612 ,  -7.34922647,  -7.23549175,\n",
       "         -7.12175703,  -7.00802183,  -6.89428711,  -6.78055239,\n",
       "         -6.66681767,  -6.55308247,  -6.43934774,  -6.32561302,\n",
       "         -6.2118783 ,  -6.0981431 ,  -5.98440838,  -5.87067366,\n",
       "         -5.75693893,  -5.64320374,  -5.52946901,  -5.41573429,\n",
       "         -5.30199909,  -5.18826437,  -5.07452965,  -4.96079493,\n",
       "         -4.84705973,  -4.733325  ,  -4.61959028,  -4.50585556,\n",
       "         -4.39212036,  -4.27838564,  -4.16465092,  -4.05091619,\n",
       "         -3.93718123,  -3.82344627,  -3.70971155,  -3.59597659,\n",
       "         -3.48224163,  -3.36850691,  -3.25477195,  -3.14103723,\n",
       "         -3.02730227,  -2.91356754,  -2.79983258,  -2.68609786,\n",
       "         -2.5723629 ,  -2.45862818,  -2.34489322,  -2.23115849,\n",
       "         -2.11742353,  -2.00368881,  -1.88995385,  -1.77621901,\n",
       "         -1.66248417,  -1.54874933,  -1.43501449,  -1.32127964,\n",
       "         -1.2075448 ,  -1.09380996,  -0.98007512,  -0.86634028,\n",
       "         -0.75260544,  -0.6388706 ,  -0.5251357 ,  -0.41140088,\n",
       "         -0.29766601,  -0.18393117,  -0.07019633,   0.04353852,\n",
       "          0.15727337,   0.27100822,   0.38474306,   0.49847791,\n",
       "          0.61221278,   0.72594762,   0.83968246,   0.9534173 ,\n",
       "          1.06715214]),\n",
       " [<matplotlib.patches.Polygon at 0x7f54dfe03eb0>])"
      ]
     },
     "execution_count": 7,
     "metadata": {},
     "output_type": "execute_result"
    },
    {
     "data": {
      "image/png": "[encoded data removed]",
      "text/plain": [
       "<Figure size 640x480 with 1 Axes>"
      ]
     },
     "metadata": {},
     "output_type": "display_data"
    }
   ],
   "source": [
    "import pandas as pd\n",
    "\n",
    "data_dir = \"/gallery_tate/wonjae.roh/cifar10c\"\n",
    "labels_path = data_dir + '/labels.npy'\n",
    "labels = np.load(labels_path)\n",
    "# labels는 10000 sample, 5 severity에 대해 10000개의 같은 label이 5번 반복되는 형태이므로 잘라준다\n",
    "labels = labels[:10000]\n",
    "\n",
    "predicted = outputs.argmax(axis=1).numpy()\n",
    "\n",
    "correct = predicted==labels\n",
    "wrong = ~correct\n",
    "entropy_numpy = entropy.numpy()\n",
    "\n",
    "correct_entropy = entropy_numpy[correct]\n",
    "wrong_entropy = entropy_numpy[wrong]\n",
    "\n",
    "correct_describe = pd.DataFrame(correct_entropy)\n",
    "print(correct_describe.describe())\n",
    "wrong_describe = pd.DataFrame(wrong_entropy)\n",
    "print(wrong_describe.describe())\n",
    "\n",
    "plt.hist(correct_describe, bins=100, density=False, alpha=0.5, histtype='stepfilled', color='orange', edgecolor='none')\n",
    "plt.hist(wrong_describe, bins=100, density=False, alpha=0.5, histtype='stepfilled', color='steelblue', edgecolor='none')"
   ]
  },
  {
   "cell_type": "code",
   "execution_count": 8,
   "metadata": {},
   "outputs": [
    {
     "name": "stdout",
     "output_type": "stream",
     "text": [
      "threshold : -3.7676\n",
      "high entropy accuracy : 0    0.539308\n",
      "dtype: float64\n",
      "low entropy accuracy : 0    0.9394\n",
      "dtype: float64\n"
     ]
    }
   ],
   "source": [
    "threshold = entropy_sorted[5000].item()\n",
    "print(f'threshold : {threshold:.4f}') \n",
    "\n",
    "correct_high = np.sum(correct_describe > threshold)\n",
    "correct_low = np.sum(correct_describe < threshold)\n",
    "wrong_high = np.sum(wrong_describe > threshold)\n",
    "wrong_low = np.sum(wrong_describe < threshold)\n",
    "\n",
    "print(f'high entropy accuracy : {correct_high / (correct_high + wrong_high)}') \n",
    "print(f'low entropy accuracy : {correct_low / (correct_low + wrong_low)}')"
   ]
  },
  {
   "cell_type": "markdown",
   "metadata": {},
   "source": [
    "### Dataloader (low_entropy, high_entropy, all)"
   ]
  },
  {
   "cell_type": "code",
   "execution_count": 9,
   "metadata": {},
   "outputs": [],
   "source": [
    "def get_subset(x, y, indices, shuffle=False):\n",
    "    \"\"\"get subset of data from indices\n",
    "    Args:\n",
    "    x: data\n",
    "    y: labels\n",
    "    indices: indices to get subset\n",
    "    Returns:\n",
    "    subset of data and labels\n",
    "    \"\"\"\n",
    "    x_sub = x[indices]\n",
    "    y_sub = y[indices]\n",
    "\n",
    "    if shuffle:\n",
    "        rand_idx = np.random.permutation(np.arange(len(x_sub)))\n",
    "        x_sub, y_sub = x_sub[rand_idx], y_sub[rand_idx]\n",
    "\n",
    "    return x_sub, y_sub\n",
    "        \n",
    "x_low, y_low = get_subset(x_test, y_test, low_index, shuffle=True)\n",
    "x_high, y_high = get_subset(x_test, y_test, high_index, shuffle=True)     "
   ]
  },
  {
   "cell_type": "markdown",
   "metadata": {},
   "source": [
    "### adaptation with suitable dataset (all)"
   ]
  },
  {
   "cell_type": "code",
   "execution_count": 10,
   "metadata": {},
   "outputs": [],
   "source": [
    "def vis_entropy_histogram(outputs, labels):\n",
    "    entropy = tent.softmax_entropy(outputs)\n",
    "    entropy = torch.log2(entropy)\n",
    "    entropy_numpy = entropy.numpy()\n",
    "    labels = labels.numpy()\n",
    "\n",
    "    predicted = outputs.argmax(axis=1).numpy()\n",
    "\n",
    "    correct = predicted==labels\n",
    "    wrong = ~correct\n",
    "\n",
    "    correct_entropy = entropy_numpy[correct]\n",
    "    wrong_entropy = entropy_numpy[wrong]\n",
    "\n",
    "\n",
    "    correct_describe = pd.DataFrame(correct_entropy)\n",
    "    print(correct_describe.describe())\n",
    "    wrong_describe = pd.DataFrame(wrong_entropy)\n",
    "    print(wrong_describe.describe())\n",
    "\n",
    "    plt.hist(correct_describe, bins=100, density=False, alpha=0.5, histtype='stepfilled', color='orange', edgecolor='none')\n",
    "    plt.hist(wrong_describe, bins=100, density=False, alpha=0.5, histtype='stepfilled', color='steelblue', edgecolor='none')"
   ]
  },
  {
   "cell_type": "code",
   "execution_count": 11,
   "metadata": {},
   "outputs": [],
   "source": [
    "if cfg.MODEL.ADAPTATION == \"tent\":\n",
    "    logger.info(\"test-time adaptation: TENT\")\n",
    "    model = setup_tent(base_model)\n",
    "elif cfg.MODEL.ADAPTATION == \"source\":\n",
    "    logger.info(\"test-time adaptation: SOURCE\")\n",
    "    model = setup_source(base_model)"
   ]
  },
  {
   "cell_type": "code",
   "execution_count": 12,
   "metadata": {},
   "outputs": [
    {
     "name": "stdout",
     "output_type": "stream",
     "text": [
      "error : 0.2173\n"
     ]
    }
   ],
   "source": [
    "model.reset()\n",
    "\n",
    "# check if it only prints desirable updating parameters\n",
    "check_freeze(model.model)\n",
    "\n",
    "# adapt on low entropy samples\n",
    "acc_total, outputs_total = get_stats(model, x_test, y_test, cfg.TEST.BATCH_SIZE, device=device,\n",
    "                                        iteration=1,\n",
    "                                        corruption_type=cfg.CORRUPTION.TYPE,\n",
    "                                        return_raw=True, no_grad=False)\n",
    "print(f'error : {(1-acc_total):.4f}')  "
   ]
  },
  {
   "cell_type": "markdown",
   "metadata": {},
   "source": [
    "### adaptation with suitable dataset (low)"
   ]
  },
  {
   "cell_type": "code",
   "execution_count": 13,
   "metadata": {},
   "outputs": [
    {
     "name": "stdout",
     "output_type": "stream",
     "text": [
      "low_error : 0.0600\n",
      "high_error : 0.3308\n",
      "total_error : 0.1954\n"
     ]
    }
   ],
   "source": [
    "model.reset()\n",
    "\n",
    "# check if it only prints desirable updating parameters\n",
    "# check_freeze(model.model)\n",
    "\n",
    "# adapt on low entropy samples\n",
    "acc_low, outputs_low = get_stats(model, x_low, y_low, cfg.TEST.BATCH_SIZE, device=device,\n",
    "                                        iteration=1,\n",
    "                                        corruption_type=cfg.CORRUPTION.TYPE,\n",
    "                                        return_raw=True, no_grad=False)\n",
    "print(f'low_error : {(1-acc_low):.4f}')  \n",
    "\n",
    "# without updating, check on high entropy samples\n",
    "acc_high, outputs_high = get_stats(model, x_high, y_high, cfg.TEST.BATCH_SIZE, device=device,\n",
    "                                        iteration=1,\n",
    "                                        corruption_type=cfg.CORRUPTION.TYPE,\n",
    "                                        return_raw=True, no_grad=True) \n",
    "print(f'high_error : {(1-acc_high):.4f}')  \n",
    "acc_total = (acc_low + acc_high) / 2\n",
    "print(f'total_error : {(1-acc_total):.4f}') \n"
   ]
  },
  {
   "cell_type": "code",
   "execution_count": 14,
   "metadata": {},
   "outputs": [
    {
     "name": "stdout",
     "output_type": "stream",
     "text": [
      "                 0\n",
      "count  4700.000000\n",
      "mean     -6.838684\n",
      "std       1.767717\n",
      "min     -12.254567\n",
      "25%      -8.042966\n",
      "50%      -6.997227\n",
      "75%      -5.804047\n",
      "max      -0.259432\n",
      "                0\n",
      "count  300.000000\n",
      "mean    -4.786717\n",
      "std      2.378970\n",
      "min    -11.176446\n",
      "25%     -6.538057\n",
      "50%     -4.918791\n",
      "75%     -3.164805\n",
      "max      0.643511\n"
     ]
    },
    {
     "data": {
      "image/png": "[encoded data removed]",
      "text/plain": [
       "<Figure size 640x480 with 1 Axes>"
      ]
     },
     "metadata": {},
     "output_type": "display_data"
    }
   ],
   "source": [
    "vis_entropy_histogram(outputs_low, y_low)"
   ]
  },
  {
   "cell_type": "code",
   "execution_count": 15,
   "metadata": {},
   "outputs": [
    {
     "name": "stdout",
     "output_type": "stream",
     "text": [
      "                 0\n",
      "count  3346.000000\n",
      "mean     -4.979691\n",
      "std       3.385410\n",
      "min     -14.772625\n",
      "25%      -7.674901\n",
      "50%      -4.876992\n",
      "75%      -1.937744\n",
      "max       0.777901\n",
      "                 0\n",
      "count  1654.000000\n",
      "mean     -1.937950\n",
      "std       2.334735\n",
      "min     -13.797049\n",
      "25%      -3.052870\n",
      "50%      -1.060015\n",
      "75%      -0.283980\n",
      "max       0.840681\n"
     ]
    },
    {
     "data": {
      "image/png": "[encoded data removed]",
      "text/plain": [
       "<Figure size 640x480 with 1 Axes>"
      ]
     },
     "metadata": {},
     "output_type": "display_data"
    }
   ],
   "source": [
    "vis_entropy_histogram(outputs_high, y_high)"
   ]
  },
  {
   "cell_type": "markdown",
   "metadata": {},
   "source": [
    "### adaptation with suitable dataset (high)"
   ]
  },
  {
   "cell_type": "code",
   "execution_count": 16,
   "metadata": {},
   "outputs": [
    {
     "name": "stdout",
     "output_type": "stream",
     "text": [
      "high_error : 0.3674\n",
      "low_error : 0.0634\n",
      "total_error : 0.2154\n"
     ]
    }
   ],
   "source": [
    "model.reset()\n",
    "\n",
    "# check if it only prints desirable updating parameters\n",
    "# check_freeze(model.model)\n",
    "\n",
    "# adapt on low entropy samples\n",
    "acc_high, outputs_high = get_stats(model, x_high, y_high, cfg.TEST.BATCH_SIZE, device=device,\n",
    "                                        iteration=1,\n",
    "                                        corruption_type=cfg.CORRUPTION.TYPE,\n",
    "                                        return_raw=True, no_grad=False)\n",
    "print(f'high_error : {(1-acc_high):.4f}')  \n",
    "\n",
    "# without updating, check on high entropy samples\n",
    "acc_low, outputs_low = get_stats(model, x_low, y_low, cfg.TEST.BATCH_SIZE, device=device,\n",
    "                                        iteration=1,\n",
    "                                        corruption_type=cfg.CORRUPTION.TYPE,\n",
    "                                        return_raw=True, no_grad=True) \n",
    "print(f'low_error : {(1-acc_low):.4f}')  \n",
    "acc_total = (acc_low + acc_high) / 2\n",
    "print(f'total_error : {(1-acc_total):.4f}') "
   ]
  },
  {
   "cell_type": "code",
   "execution_count": 17,
   "metadata": {},
   "outputs": [
    {
     "name": "stdout",
     "output_type": "stream",
     "text": [
      "                 0\n",
      "count  4683.000000\n",
      "mean     -7.993689\n",
      "std       2.270032\n",
      "min     -14.263505\n",
      "25%      -9.482902\n",
      "50%      -8.240394\n",
      "75%      -7.001631\n",
      "max       0.529596\n",
      "                0\n",
      "count  317.000000\n",
      "mean    -4.269598\n",
      "std      3.332135\n",
      "min    -12.367476\n",
      "25%     -7.230590\n",
      "50%     -3.720169\n",
      "75%     -1.258236\n",
      "max      0.620733\n"
     ]
    },
    {
     "data": {
      "image/png": "[encoded data removed]",
      "text/plain": [
       "<Figure size 640x480 with 1 Axes>"
      ]
     },
     "metadata": {},
     "output_type": "display_data"
    }
   ],
   "source": [
    "vis_entropy_histogram(outputs_low, y_low)"
   ]
  },
  {
   "cell_type": "code",
   "execution_count": 18,
   "metadata": {},
   "outputs": [
    {
     "name": "stdout",
     "output_type": "stream",
     "text": [
      "                 0\n",
      "count  3163.000000\n",
      "mean     -3.651306\n",
      "std       2.788125\n",
      "min     -12.453605\n",
      "25%      -5.775933\n",
      "50%      -3.249923\n",
      "75%      -1.163703\n",
      "max       0.827789\n",
      "                 0\n",
      "count  1837.000000\n",
      "mean     -1.449656\n",
      "std       1.889576\n",
      "min     -11.353993\n",
      "25%      -2.331298\n",
      "50%      -0.828290\n",
      "75%      -0.118124\n",
      "max       0.971774\n"
     ]
    },
    {
     "data": {
      "image/png": "[encoded data removed]",
      "text/plain": [
       "<Figure size 640x480 with 1 Axes>"
      ]
     },
     "metadata": {},
     "output_type": "display_data"
    }
   ],
   "source": [
    "vis_entropy_histogram(outputs_high, y_high)"
   ]
  },
  {
   "cell_type": "markdown",
   "metadata": {},
   "source": [
    "ResNet18 기준으로는 차이가 좀 나네"
   ]
  }
 ],
 "metadata": {
  "kernelspec": {
   "display_name": "TENT",
   "language": "python",
   "name": "python3"
  },
  "language_info": {
   "codemirror_mode": {
    "name": "ipython",
    "version": 3
   },
   "file_extension": ".py",
   "mimetype": "text/x-python",
   "name": "python",
   "nbconvert_exporter": "python",
   "pygments_lexer": "ipython3",
   "version": "3.8.16"
  },
  "orig_nbformat": 4
 },
 "nbformat": 4,
 "nbformat_minor": 2
}
