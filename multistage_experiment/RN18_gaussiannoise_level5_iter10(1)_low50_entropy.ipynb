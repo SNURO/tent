{
 "cells": [
  {
   "cell_type": "code",
   "execution_count": 42,
   "metadata": {},
   "outputs": [],
   "source": [
    "import logging\n",
    "\n",
    "import torch\n",
    "import torch.optim as optim\n",
    "\n",
    "from robustbench.data import load_cifar10c\n",
    "from robustbench.model_zoo.enums import ThreatModel\n",
    "from robustbench.utils import load_model\n",
    "from nets import *\n",
    "\n",
    "import time\n",
    "import tent\n",
    "import norm\n",
    "import oracle\n",
    "from utils import *\n",
    "from matplotlib import pyplot as plt\n",
    "\n",
    "\n",
    "import ipdb\n",
    "\n",
    "from conf import cfg, load_cfg_fom_args, merge_from_file\n",
    "\n",
    "corruption_list = ['gaussian_noise', 'shot_noise', 'impulse_noise', 'defocus_blur', 'glass_blur', 'motion_blur', 'zoom_blur', 'snow', 'frost', 'fog', 'brightness',\n",
    "                        'contrast', 'elastic_transform', 'pixelate', 'jpeg_compression']\n"
   ]
  },
  {
   "cell_type": "code",
   "execution_count": 43,
   "metadata": {},
   "outputs": [
    {
     "name": "stdout",
     "output_type": "stream",
     "text": [
      "BN:\n",
      "  EPS: 1e-05\n",
      "  MOM: 0.1\n",
      "CKPT_DIR: ./ckpt\n",
      "CORRUPTION:\n",
      "  DATASET: cifar10\n",
      "  NUM_EX: 10000\n",
      "  SEVERITY: [5]\n",
      "  TYPE: ['gaussian_noise']\n",
      "CUDNN:\n",
      "  BENCHMARK: True\n",
      "DATA_DIR: /gallery_tate/wonjae.roh\n",
      "DESC: \n",
      "EPOCH: 50\n",
      "EXPERIMENTAL:\n",
      "  LINEAR_RETRAIN: False\n",
      "ITERATION: 1\n",
      "LOG_DEST: log.txt\n",
      "LOG_TIME: \n",
      "MODEL:\n",
      "  ADAPTATION: tent\n",
      "  ARCH: RN18\n",
      "  EPISODIC: False\n",
      "OPTIM:\n",
      "  BETA: 0.9\n",
      "  DAMPENING: 0.0\n",
      "  LR: 0.001\n",
      "  METHOD: Adam\n",
      "  MOMENTUM: 0.9\n",
      "  NESTEROV: True\n",
      "  STEPS: 10\n",
      "  WD: 0.0\n",
      "RNG_SEED: 1\n",
      "SAVE_DIR: ./output\n",
      "TEST:\n",
      "  BATCH_SIZE: 200\n",
      "cuda\n"
     ]
    }
   ],
   "source": [
    "logger = logging.getLogger(__name__)\n",
    "merge_from_file('cfgs/multistage.yaml')\n",
    "device = torch.device(\"cuda\" if torch.cuda.is_available() else \"cpu\")\n",
    "\n",
    "print(cfg)\n",
    "print(device)"
   ]
  },
  {
   "cell_type": "markdown",
   "metadata": {},
   "source": [
    "### adaptation 없이 initial high_entropy samples, low_entropy samples index 찾기"
   ]
  },
  {
   "cell_type": "code",
   "execution_count": 44,
   "metadata": {},
   "outputs": [],
   "source": [
    "def setup_tent(model):\n",
    "    \"\"\"Set up tent adaptation.\n",
    "\n",
    "    Configure the model for training + feature modulation by batch statistics,\n",
    "    collect the parameters for feature modulation by gradient optimization,\n",
    "    set up the optimizer, and then tent the model.\n",
    "    \"\"\"\n",
    "    model = tent.configure_model(model)\n",
    "    params, param_names = tent.collect_params(model)\n",
    "    optimizer = setup_optimizer(params)\n",
    "    tent_model = tent.Tent(model, optimizer,\n",
    "                           steps=cfg.OPTIM.STEPS,\n",
    "                           episodic=cfg.MODEL.EPISODIC)\n",
    "    logger.info(f\"model for adaptation: %s\", model)\n",
    "    logger.info(f\"params for adaptation: %s\", param_names)\n",
    "    logger.info(f\"optimizer for adaptation: %s\", optimizer)\n",
    "    return tent_model\n",
    "\n",
    "def setup_pl(model):\n",
    "    \"\"\"Set up tent adaptation.\n",
    "\n",
    "    Configure the model for training + feature modulation by batch statistics,\n",
    "    collect the parameters for feature modulation by gradient optimization,\n",
    "    set up the optimizer, and then tent the model.\n",
    "    \"\"\"\n",
    "    model = tent.configure_model(model)\n",
    "    params, param_names = tent.collect_params(model)\n",
    "    optimizer = setup_optimizer(params)\n",
    "    pl_model = tent.PL(model, optimizer,\n",
    "                           steps=cfg.OPTIM.STEPS,\n",
    "                           episodic=cfg.MODEL.EPISODIC)\n",
    "    logger.info(f\"model for adaptation: %s\", model)\n",
    "    logger.info(f\"params for adaptation: %s\", param_names)\n",
    "    logger.info(f\"optimizer for adaptation: %s\", optimizer)\n",
    "    return pl_model\n",
    "\n",
    "def setup_optimizer(params):\n",
    "    \"\"\"Set up optimizer for tent adaptation.\n",
    "\n",
    "    Tent needs an optimizer for test-time entropy minimization.\n",
    "    In principle, tent could make use of any gradient optimizer.\n",
    "    In practice, we advise choosing Adam or SGD+momentum.\n",
    "    For optimization settings, we advise to use the settings from the end of\n",
    "    trainig, if known, or start with a low learning rate (like 0.001) if not.\n",
    "\n",
    "    For best results, try tuning the learning rate and batch size.\n",
    "    \"\"\"\n",
    "    if cfg.OPTIM.METHOD == 'Adam':\n",
    "        return optim.Adam(params,\n",
    "                    lr=cfg.OPTIM.LR,\n",
    "                    betas=(cfg.OPTIM.BETA, 0.999),\n",
    "                    weight_decay=cfg.OPTIM.WD)\n",
    "    elif cfg.OPTIM.METHOD == 'SGD':\n",
    "        return optim.SGD(params,\n",
    "                   lr=cfg.OPTIM.LR,\n",
    "                   momentum=cfg.OPTIM.MOMENTUM,\n",
    "                   dampening=cfg.OPTIM.DAMPENING,\n",
    "                   weight_decay=cfg.OPTIM.WD,\n",
    "                   nesterov=cfg.OPTIM.NESTEROV)\n",
    "    else:\n",
    "        raise NotImplementedError\n",
    "    \n",
    "def setup_source(model):\n",
    "    \"\"\"Set up the baseline source model without adaptation.\"\"\"\n",
    "    model.eval()\n",
    "    logger.info(f\"model for evaluation: %s\", model)\n",
    "    return model"
   ]
  },
  {
   "cell_type": "code",
   "execution_count": 45,
   "metadata": {},
   "outputs": [],
   "source": [
    "\n",
    "# configure model\n",
    "\n",
    "if cfg.MODEL.ARCH == \"Hendrycks2020AugMix_WRN\":\n",
    "    base_model = load_model(cfg.MODEL.ARCH, cfg.CKPT_DIR, cfg.CORRUPTION.DATASET, ThreatModel.corruptions).to(device)\n",
    "elif cfg.MODEL.ARCH == \"RN18\":\n",
    "    base_model = ResNet18(n_classes=10).to(device)\n",
    "    ckpt = torch.load(\"/home2/wonjae.roh/nprc/tent/ckpt/cifar10/corruptions/ResNet18_pretrained.pth.tar\", map_location=device)\n",
    "    base_model.load_state_dict(ckpt[\"pretrain-learner\"])\n",
    "else:\n",
    "    raise NotImplementedError\n",
    "\n",
    "\n",
    "x_test, y_test = load_cifar10c(cfg.CORRUPTION.NUM_EX, cfg.CORRUPTION.SEVERITY[0], cfg.DATA_DIR, False, cfg.CORRUPTION.TYPE)\n",
    "x_test, y_test = x_test.to(device), y_test.to(device)\n",
    "\n",
    "acc, outputs = get_stats(base_model, x_test, y_test, cfg.TEST.BATCH_SIZE, device=device,\n",
    "                                        iteration=1,\n",
    "                                        corruption_type=cfg.CORRUPTION.TYPE,\n",
    "                                        return_raw=True)\n",
    "\n"
   ]
  },
  {
   "cell_type": "code",
   "execution_count": 46,
   "metadata": {},
   "outputs": [
    {
     "data": {
      "text/plain": [
       "[<matplotlib.lines.Line2D at 0x7f35c9c0c580>]"
      ]
     },
     "execution_count": 46,
     "metadata": {},
     "output_type": "execute_result"
    },
    {
     "data": {
      "image/png": "[encoded data removed]",
      "text/plain": [
       "<Figure size 640x480 with 1 Axes>"
      ]
     },
     "metadata": {},
     "output_type": "display_data"
    }
   ],
   "source": [
    "%matplotlib inline\n",
    "\n",
    "entropy = tent.softmax_entropy(outputs)\n",
    "entropy = torch.log2(entropy)\n",
    "entropy_sorted, entropy_sorted_index = entropy.sort()\n",
    "plt.plot(entropy_sorted.numpy())\n",
    "\n",
    "high_index = entropy_sorted_index[5000:]\n",
    "low_index = entropy_sorted_index[:5000]\n",
    "high_values = entropy[high_index]\n",
    "low_values = entropy[low_index]\n",
    "plt.plot(high_values.numpy())"
   ]
  },
  {
   "cell_type": "markdown",
   "metadata": {},
   "source": [
    "### Correct samples, Wrong samples entropy histogram visualize"
   ]
  },
  {
   "cell_type": "code",
   "execution_count": 47,
   "metadata": {},
   "outputs": [
    {
     "name": "stdout",
     "output_type": "stream",
     "text": [
      "                 0\n",
      "count  6650.000000\n",
      "mean     -4.490294\n",
      "std       3.051585\n",
      "min     -12.851542\n",
      "25%      -7.051769\n",
      "50%      -4.654666\n",
      "75%      -1.754229\n",
      "max       1.014241\n",
      "                 0\n",
      "count  3350.000000\n",
      "mean     -1.380729\n",
      "std       2.067541\n",
      "min     -10.295473\n",
      "25%      -2.323650\n",
      "50%      -0.614420\n",
      "75%       0.114202\n",
      "max       1.095908\n"
     ]
    },
    {
     "data": {
      "text/plain": [
       "(array([  3.,   1.,   0.,   0.,   1.,   0.,   1.,   0.,   1.,   2.,   2.,\n",
       "          2.,   2.,   3.,   2.,   2.,   1.,   4.,   3.,   2.,   2.,   5.,\n",
       "          5.,   4.,   2.,   7.,   5.,   6.,   9.,   8.,  10.,   4.,   8.,\n",
       "         11.,  13.,   9.,  11.,   6.,   8.,   9.,  13.,  12.,  11.,  13.,\n",
       "         18.,  14.,  20.,  12.,  16.,  19.,  12.,  12.,  17.,  26.,  24.,\n",
       "         15.,  25.,  19.,  25.,  24.,  27.,  29.,  27.,  28.,  42.,  32.,\n",
       "         30.,  27.,  39.,  37.,  34.,  45.,  45.,  31.,  50.,  55.,  49.,\n",
       "         52.,  57.,  69.,  50.,  71.,  63.,  76.,  91.,  93., 114., 124.,\n",
       "        131., 157., 165., 170., 151., 150., 126.,  96.,  82.,  61.,  33.,\n",
       "         20.]),\n",
       " array([-10.2954731 , -10.18155956, -10.06764507,  -9.95373154,\n",
       "         -9.839818  ,  -9.72590446,  -9.61198997,  -9.49807644,\n",
       "         -9.3841629 ,  -9.27024841,  -9.15633488,  -9.04242134,\n",
       "         -8.9285078 ,  -8.81459332,  -8.70067978,  -8.58676624,\n",
       "         -8.47285175,  -8.35893822,  -8.24502468,  -8.13111115,\n",
       "         -8.01719666,  -7.90328312,  -7.78936911,  -7.67545557,\n",
       "         -7.56154156,  -7.44762802,  -7.33371401,  -7.21980047,\n",
       "         -7.10588646,  -6.99197245,  -6.87805891,  -6.7641449 ,\n",
       "         -6.65023136,  -6.53631735,  -6.42240381,  -6.3084898 ,\n",
       "         -6.19457579,  -6.08066225,  -5.96674824,  -5.8528347 ,\n",
       "         -5.73892069,  -5.62500715,  -5.51109314,  -5.39717913,\n",
       "         -5.28326559,  -5.16935158,  -5.05543804,  -4.94152403,\n",
       "         -4.82761049,  -4.71369648,  -4.59978294,  -4.48586893,\n",
       "         -4.37195492,  -4.25804138,  -4.14412737,  -4.03021383,\n",
       "         -3.91629982,  -3.80238605,  -3.68847227,  -3.5745585 ,\n",
       "         -3.46064472,  -3.34673071,  -3.23281693,  -3.11890316,\n",
       "         -3.00498939,  -2.89107561,  -2.77716184,  -2.66324806,\n",
       "         -2.54933405,  -2.43542027,  -2.3215065 ,  -2.20759273,\n",
       "         -2.09367895,  -1.97976518,  -1.86585128,  -1.75193751,\n",
       "         -1.63802373,  -1.52410984,  -1.41019607,  -1.29628229,\n",
       "         -1.18236852,  -1.06845462,  -0.95454085,  -0.84062707,\n",
       "         -0.72671324,  -0.61279941,  -0.49888563,  -0.38497183,\n",
       "         -0.27105799,  -0.1571442 ,  -0.04323039,   0.07068342,\n",
       "          0.18459722,   0.29851103,   0.41242483,   0.52633864,\n",
       "          0.64025247,   0.75416625,   0.86808008,   0.98199385,\n",
       "          1.09590769]),\n",
       " [<matplotlib.patches.Polygon at 0x7f35c9b888b0>])"
      ]
     },
     "execution_count": 47,
     "metadata": {},
     "output_type": "execute_result"
    },
    {
     "data": {
      "image/png": "[encoded data removed]",
      "text/plain": [
       "<Figure size 640x480 with 1 Axes>"
      ]
     },
     "metadata": {},
     "output_type": "display_data"
    }
   ],
   "source": [
    "import pandas as pd\n",
    "\n",
    "data_dir = \"/gallery_tate/wonjae.roh/cifar10c\"\n",
    "labels_path = data_dir + '/labels.npy'\n",
    "labels = np.load(labels_path)\n",
    "# labels는 10000 sample, 5 severity에 대해 10000개의 같은 label이 5번 반복되는 형태이므로 잘라준다\n",
    "labels = labels[:10000]\n",
    "\n",
    "predicted = outputs.argmax(axis=1).numpy()\n",
    "\n",
    "correct = predicted==labels\n",
    "wrong = ~correct\n",
    "entropy_numpy = entropy.numpy()\n",
    "\n",
    "correct_entropy = entropy_numpy[correct]\n",
    "wrong_entropy = entropy_numpy[wrong]\n",
    "\n",
    "correct_describe = pd.DataFrame(correct_entropy)\n",
    "print(correct_describe.describe())\n",
    "wrong_describe = pd.DataFrame(wrong_entropy)\n",
    "print(wrong_describe.describe())\n",
    "\n",
    "plt.hist(correct_describe, bins=100, density=False, alpha=0.5, histtype='stepfilled', color='orange', edgecolor='none')\n",
    "plt.hist(wrong_describe, bins=100, density=False, alpha=0.5, histtype='stepfilled', color='steelblue', edgecolor='none')"
   ]
  },
  {
   "cell_type": "code",
   "execution_count": 48,
   "metadata": {},
   "outputs": [
    {
     "name": "stdout",
     "output_type": "stream",
     "text": [
      "threshold : -2.8889\n",
      "low_error : 13.48\n",
      "high_error : 53.51\n",
      "total_error : 33.50\n"
     ]
    }
   ],
   "source": [
    "threshold = entropy_sorted[5000].item()\n",
    "print(f'threshold : {threshold:.4f}') \n",
    "\n",
    "correct_high = np.sum(correct_describe > threshold)\n",
    "correct_low = np.sum(correct_describe < threshold)\n",
    "wrong_high = np.sum(wrong_describe > threshold)\n",
    "wrong_low = np.sum(wrong_describe < threshold)\n",
    "\n",
    "low_error = 100-float(correct_low * 100 / (correct_low + wrong_low))\n",
    "high_error = 100-float(correct_high * 100 / (correct_high + wrong_high))\n",
    "total_error = (low_error + high_error) / 2\n",
    "                       \n",
    "print(f'low_error : {low_error:.2f}')\n",
    "print(f'high_error : {high_error:.2f}') \n",
    "print(f'total_error : {total_error:.2f}') "
   ]
  },
  {
   "cell_type": "markdown",
   "metadata": {},
   "source": [
    "### Dataloader (low_entropy, high_entropy, all)"
   ]
  },
  {
   "cell_type": "code",
   "execution_count": 49,
   "metadata": {},
   "outputs": [],
   "source": [
    "def get_subset(x, y, indices, shuffle=False):\n",
    "    \"\"\"get subset of data from indices\n",
    "    Args:\n",
    "    x: data\n",
    "    y: labels\n",
    "    indices: indices to get subset\n",
    "    Returns:\n",
    "    subset of data and labels\n",
    "    \"\"\"\n",
    "    x_sub = x[indices]\n",
    "    y_sub = y[indices]\n",
    "\n",
    "    if shuffle:\n",
    "        rand_idx = np.random.permutation(np.arange(len(x_sub)))\n",
    "        x_sub, y_sub = x_sub[rand_idx], y_sub[rand_idx]\n",
    "\n",
    "    return x_sub, y_sub\n",
    "        \n",
    "x_low, y_low = get_subset(x_test, y_test, low_index, shuffle=True)\n",
    "x_high, y_high = get_subset(x_test, y_test, high_index, shuffle=True)     "
   ]
  },
  {
   "cell_type": "markdown",
   "metadata": {},
   "source": [
    "### adaptation with suitable dataset (all)"
   ]
  },
  {
   "cell_type": "code",
   "execution_count": 50,
   "metadata": {},
   "outputs": [],
   "source": [
    "def vis_entropy_histogram(outputs, labels):\n",
    "    entropy = tent.softmax_entropy(outputs)\n",
    "    entropy = torch.log2(entropy)\n",
    "    entropy_numpy = entropy.numpy()\n",
    "    labels = labels.cpu().numpy()\n",
    "\n",
    "    predicted = outputs.argmax(axis=1).numpy()\n",
    "\n",
    "    correct = predicted==labels\n",
    "    wrong = ~correct\n",
    "\n",
    "    correct_entropy = entropy_numpy[correct]\n",
    "    wrong_entropy = entropy_numpy[wrong]\n",
    "\n",
    "\n",
    "    correct_describe = pd.DataFrame(correct_entropy)\n",
    "    print(correct_describe.describe())\n",
    "    wrong_describe = pd.DataFrame(wrong_entropy)\n",
    "    print(wrong_describe.describe())\n",
    "\n",
    "    plt.hist(correct_describe, bins=100, density=False, alpha=0.5, histtype='stepfilled', color='orange', edgecolor='none')\n",
    "    plt.hist(wrong_describe, bins=100, density=False, alpha=0.5, histtype='stepfilled', color='steelblue', edgecolor='none')"
   ]
  },
  {
   "cell_type": "code",
   "execution_count": 51,
   "metadata": {},
   "outputs": [],
   "source": [
    "if cfg.MODEL.ADAPTATION == \"tent\":\n",
    "    logger.info(\"test-time adaptation: TENT\")\n",
    "    model = setup_tent(base_model)\n",
    "elif cfg.MODEL.ADAPTATION == \"source\":\n",
    "    logger.info(\"test-time adaptation: SOURCE\")\n",
    "    model = setup_source(base_model)\n",
    "elif cfg.MODEL.ADAPTATION == \"pl\":\n",
    "    logger.info(\"test-time adaptation: PL\")\n",
    "    model = setup_pl(base_model)"
   ]
  },
  {
   "cell_type": "code",
   "execution_count": 52,
   "metadata": {},
   "outputs": [
    {
     "name": "stdout",
     "output_type": "stream",
     "text": [
      "bn1.weight\n",
      "bn1.bias\n",
      "layer1.0.bn1.weight\n",
      "layer1.0.bn1.bias\n",
      "layer1.0.bn2.weight\n",
      "layer1.0.bn2.bias\n",
      "layer1.1.bn1.weight\n",
      "layer1.1.bn1.bias\n",
      "layer1.1.bn2.weight\n",
      "layer1.1.bn2.bias\n",
      "layer2.0.bn1.weight\n",
      "layer2.0.bn1.bias\n",
      "layer2.0.bn2.weight\n",
      "layer2.0.bn2.bias\n",
      "layer2.0.shortcut.1.weight\n",
      "layer2.0.shortcut.1.bias\n",
      "layer2.1.bn1.weight\n",
      "layer2.1.bn1.bias\n",
      "layer2.1.bn2.weight\n",
      "layer2.1.bn2.bias\n",
      "layer3.0.bn1.weight\n",
      "layer3.0.bn1.bias\n",
      "layer3.0.bn2.weight\n",
      "layer3.0.bn2.bias\n",
      "layer3.0.shortcut.1.weight\n",
      "layer3.0.shortcut.1.bias\n",
      "layer3.1.bn1.weight\n",
      "layer3.1.bn1.bias\n",
      "layer3.1.bn2.weight\n",
      "layer3.1.bn2.bias\n",
      "layer4.0.bn1.weight\n",
      "layer4.0.bn1.bias\n",
      "layer4.0.bn2.weight\n",
      "layer4.0.bn2.bias\n",
      "layer4.0.shortcut.1.weight\n",
      "layer4.0.shortcut.1.bias\n",
      "layer4.1.bn1.weight\n",
      "layer4.1.bn1.bias\n",
      "layer4.1.bn2.weight\n",
      "layer4.1.bn2.bias\n"
     ]
    }
   ],
   "source": [
    "model.reset()\n",
    "\n",
    "# check if it only prints desirable updating parameters\n",
    "check_freeze(model.model)\n",
    " "
   ]
  },
  {
   "cell_type": "code",
   "execution_count": 53,
   "metadata": {},
   "outputs": [
    {
     "name": "stdout",
     "output_type": "stream",
     "text": [
      "total_error : 37.75\n",
      "194s\n"
     ]
    },
    {
     "data": {
      "text/plain": [
       "(array([1262.,  923.,  177., 2035.,  617.,  680., 1516.,  883.,  980.,\n",
       "         927.]),\n",
       " array([0. , 0.9, 1.8, 2.7, 3.6, 4.5, 5.4, 6.3, 7.2, 8.1, 9. ]),\n",
       " [<matplotlib.patches.Polygon at 0x7f35c9f7d670>])"
      ]
     },
     "execution_count": 53,
     "metadata": {},
     "output_type": "execute_result"
    },
    {
     "data": {
      "image/png": "[encoded data removed]",
      "text/plain": [
       "<Figure size 640x480 with 1 Axes>"
      ]
     },
     "metadata": {},
     "output_type": "display_data"
    }
   ],
   "source": [
    "# adapt on all entropy samples\n",
    "start=time.time()\n",
    "acc_total, outputs_total = get_stats(model, x_test, y_test, cfg.TEST.BATCH_SIZE, device=device,\n",
    "                                        iteration=1,\n",
    "                                        corruption_type=cfg.CORRUPTION.TYPE,\n",
    "                                        return_raw=True, no_grad=False)\n",
    "end=time.time()\n",
    "print(f'total_error : {(1-acc_total)*100:.2f}') \n",
    "print(f'{end - start:.0f}s')\n",
    "\n",
    "plt.hist(outputs_total.argmax(1), bins=10, density=False, histtype='stepfilled', edgecolor='none')"
   ]
  },
  {
   "cell_type": "markdown",
   "metadata": {},
   "source": [
    "### adaptation with suitable dataset (low)"
   ]
  },
  {
   "cell_type": "code",
   "execution_count": 54,
   "metadata": {},
   "outputs": [
    {
     "name": "stdout",
     "output_type": "stream",
     "text": [
      "low_error : 13.84\n",
      "high_error : 53.32\n",
      "total_error : 33.58\n",
      "194s\n"
     ]
    },
    {
     "data": {
      "text/plain": [
       "(array([472., 539., 347., 401., 447., 480., 588., 590., 601., 535.]),\n",
       " array([0. , 0.9, 1.8, 2.7, 3.6, 4.5, 5.4, 6.3, 7.2, 8.1, 9. ]),\n",
       " [<matplotlib.patches.Polygon at 0x7f35c9b38940>])"
      ]
     },
     "execution_count": 54,
     "metadata": {},
     "output_type": "execute_result"
    },
    {
     "data": {
      "image/png": "[encoded data removed]",
      "text/plain": [
       "<Figure size 640x480 with 1 Axes>"
      ]
     },
     "metadata": {},
     "output_type": "display_data"
    }
   ],
   "source": [
    "model.reset()\n",
    "\n",
    "# check if it only prints desirable updating parameters\n",
    "# check_freeze(model.model)\n",
    "\n",
    "# adapt on low entropy samples\n",
    "start=time.time()\n",
    "acc_low, outputs_low = get_stats(model, x_low, y_low, cfg.TEST.BATCH_SIZE, device=device,\n",
    "                                        iteration=1,\n",
    "                                        corruption_type=cfg.CORRUPTION.TYPE,\n",
    "                                        return_raw=True, no_grad=False)\n",
    "print(f'low_error : {(1-acc_low)*100:.2f}')  \n",
    "\n",
    "# without updating, check on high entropy samples\n",
    "acc_high, outputs_high = get_stats(model, x_high, y_high, cfg.TEST.BATCH_SIZE, device=device,\n",
    "                                        iteration=1,\n",
    "                                        corruption_type=cfg.CORRUPTION.TYPE,\n",
    "                                        return_raw=True, no_grad=True) \n",
    "print(f'high_error : {(1-acc_high)*100:.2f}')  \n",
    "acc_total = (acc_low + acc_high) / 2\n",
    "print(f'total_error : {(1-acc_total)*100:.2f}') \n",
    "\n",
    "end=time.time()\n",
    "print(f'{end - start:.0f}s')\n",
    "\n",
    "plt.hist(outputs_low.argmax(1), bins=10, density=False, histtype='stepfilled', edgecolor='none')\n"
   ]
  },
  {
   "cell_type": "code",
   "execution_count": 55,
   "metadata": {},
   "outputs": [
    {
     "name": "stdout",
     "output_type": "stream",
     "text": [
      "                 0\n",
      "count  4308.000000\n",
      "mean     -9.793834\n",
      "std       2.763835\n",
      "min     -23.607477\n",
      "25%     -11.503218\n",
      "50%      -9.481081\n",
      "75%      -7.690868\n",
      "max      -3.677344\n",
      "                0\n",
      "count  692.000000\n",
      "mean    -8.740696\n",
      "std      2.427241\n",
      "min    -16.501303\n",
      "25%    -10.141874\n",
      "50%     -8.369998\n",
      "75%     -6.907787\n",
      "max     -4.318359\n"
     ]
    },
    {
     "data": {
      "image/png": "[encoded data removed]",
      "text/plain": [
       "<Figure size 640x480 with 1 Axes>"
      ]
     },
     "metadata": {},
     "output_type": "display_data"
    }
   ],
   "source": [
    "vis_entropy_histogram(outputs_low, y_low)"
   ]
  },
  {
   "cell_type": "code",
   "execution_count": 56,
   "metadata": {},
   "outputs": [
    {
     "name": "stdout",
     "output_type": "stream",
     "text": [
      "                 0\n",
      "count  2334.000000\n",
      "mean    -12.169332\n",
      "std       4.961880\n",
      "min     -30.636309\n",
      "25%     -15.476071\n",
      "50%     -11.555820\n",
      "75%      -8.133880\n",
      "max      -0.589240\n",
      "                 0\n",
      "count  2666.000000\n",
      "mean    -10.600926\n",
      "std       4.420427\n",
      "min     -31.971958\n",
      "25%     -13.181904\n",
      "50%      -9.567937\n",
      "75%      -7.413322\n",
      "max      -0.932230\n"
     ]
    },
    {
     "data": {
      "image/png": "[encoded data removed]",
      "text/plain": [
       "<Figure size 640x480 with 1 Axes>"
      ]
     },
     "metadata": {},
     "output_type": "display_data"
    }
   ],
   "source": [
    "vis_entropy_histogram(outputs_high, y_high)"
   ]
  },
  {
   "cell_type": "markdown",
   "metadata": {},
   "source": [
    "### adaptation with suitable dataset (high)"
   ]
  },
  {
   "cell_type": "code",
   "execution_count": 57,
   "metadata": {},
   "outputs": [
    {
     "name": "stdout",
     "output_type": "stream",
     "text": [
      "low_error : 30.52\n",
      "high_error : 50.20\n",
      "total_error : 40.36\n"
     ]
    },
    {
     "data": {
      "text/plain": [
       "(array([554., 429., 188., 686., 726., 687., 596., 268., 548., 318.]),\n",
       " array([0. , 0.9, 1.8, 2.7, 3.6, 4.5, 5.4, 6.3, 7.2, 8.1, 9. ]),\n",
       " [<matplotlib.patches.Polygon at 0x7f35c99d5520>])"
      ]
     },
     "execution_count": 57,
     "metadata": {},
     "output_type": "execute_result"
    },
    {
     "data": {
      "image/png": "[encoded data removed]",
      "text/plain": [
       "<Figure size 640x480 with 1 Axes>"
      ]
     },
     "metadata": {},
     "output_type": "display_data"
    }
   ],
   "source": [
    "model.reset()\n",
    "\n",
    "# check if it only prints desirable updating parameters\n",
    "# check_freeze(model.model)\n",
    "\n",
    "# adapt on low entropy samples\n",
    "acc_high, outputs_high = get_stats(model, x_high, y_high, cfg.TEST.BATCH_SIZE, device=device,\n",
    "                                        iteration=1,\n",
    "                                        corruption_type=cfg.CORRUPTION.TYPE,\n",
    "                                        return_raw=True, no_grad=False)\n",
    "\n",
    "# without updating, check on high entropy samples\n",
    "acc_low, outputs_low = get_stats(model, x_low, y_low, cfg.TEST.BATCH_SIZE, device=device,\n",
    "                                        iteration=1,\n",
    "                                        corruption_type=cfg.CORRUPTION.TYPE,\n",
    "                                        return_raw=True, no_grad=True) \n",
    "print(f'low_error : {(1-acc_low)*100:.2f}')  \n",
    "print(f'high_error : {(1-acc_high)*100:.2f}')  \n",
    "acc_total = (acc_low + acc_high) / 2\n",
    "print(f'total_error : {(1-acc_total)*100:.2f}') \n",
    "\n",
    "plt.hist(outputs_high.argmax(1), bins=10, density=False, histtype='stepfilled', edgecolor='none')"
   ]
  },
  {
   "cell_type": "code",
   "execution_count": 58,
   "metadata": {},
   "outputs": [
    {
     "name": "stdout",
     "output_type": "stream",
     "text": [
      "                 0\n",
      "count  3474.000000\n",
      "mean    -12.155886\n",
      "std       4.004500\n",
      "min     -27.852333\n",
      "25%     -15.155738\n",
      "50%     -12.573137\n",
      "75%      -8.915274\n",
      "max      -0.919395\n",
      "                 0\n",
      "count  1526.000000\n",
      "mean     -9.479005\n",
      "std       4.009643\n",
      "min     -26.698124\n",
      "25%     -11.736571\n",
      "50%      -8.455901\n",
      "75%      -6.465196\n",
      "max      -0.079884\n"
     ]
    },
    {
     "data": {
      "image/png": "[encoded data removed]",
      "text/plain": [
       "<Figure size 640x480 with 1 Axes>"
      ]
     },
     "metadata": {},
     "output_type": "display_data"
    }
   ],
   "source": [
    "vis_entropy_histogram(outputs_low, y_low)"
   ]
  },
  {
   "cell_type": "code",
   "execution_count": 59,
   "metadata": {},
   "outputs": [
    {
     "name": "stdout",
     "output_type": "stream",
     "text": [
      "                 0\n",
      "count  2490.000000\n",
      "mean     -7.658876\n",
      "std       3.401041\n",
      "min     -19.300486\n",
      "25%     -10.041501\n",
      "50%      -6.895415\n",
      "75%      -5.020428\n",
      "max      -0.068571\n",
      "                 0\n",
      "count  2510.000000\n",
      "mean     -6.328060\n",
      "std       2.987445\n",
      "min     -19.783239\n",
      "25%      -7.709755\n",
      "50%      -5.725345\n",
      "75%      -4.330082\n",
      "max       0.669947\n"
     ]
    },
    {
     "data": {
      "image/png": "[encoded data removed]",
      "text/plain": [
       "<Figure size 640x480 with 1 Axes>"
      ]
     },
     "metadata": {},
     "output_type": "display_data"
    }
   ],
   "source": [
    "vis_entropy_histogram(outputs_high, y_high)"
   ]
  },
  {
   "cell_type": "code",
   "execution_count": 60,
   "metadata": {},
   "outputs": [
    {
     "data": {
      "text/plain": [
       "(array([554., 429., 188., 686., 726., 687., 596., 268., 548., 318.]),\n",
       " array([0. , 0.9, 1.8, 2.7, 3.6, 4.5, 5.4, 6.3, 7.2, 8.1, 9. ]),\n",
       " [<matplotlib.patches.Polygon at 0x7f35c98c9df0>])"
      ]
     },
     "execution_count": 60,
     "metadata": {},
     "output_type": "execute_result"
    },
    {
     "data": {
      "image/png": "[encoded data removed]",
      "text/plain": [
       "<Figure size 640x480 with 1 Axes>"
      ]
     },
     "metadata": {},
     "output_type": "display_data"
    }
   ],
   "source": [
    "plt.hist(outputs_high.argmax(1), bins=10, density=False, histtype='stepfilled', edgecolor='none')"
   ]
  },
  {
   "cell_type": "code",
   "execution_count": null,
   "metadata": {},
   "outputs": [],
   "source": []
  }
 ],
 "metadata": {
  "kernelspec": {
   "display_name": "Python 3 (ipykernel)",
   "language": "python",
   "name": "python3"
  },
  "language_info": {
   "codemirror_mode": {
    "name": "ipython",
    "version": 3
   },
   "file_extension": ".py",
   "mimetype": "text/x-python",
   "name": "python",
   "nbconvert_exporter": "python",
   "pygments_lexer": "ipython3",
   "version": "3.8.16"
  }
 },
 "nbformat": 4,
 "nbformat_minor": 4
}
