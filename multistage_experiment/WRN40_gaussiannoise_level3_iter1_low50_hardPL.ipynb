{
 "cells": [
  {
   "cell_type": "code",
   "execution_count": 1,
   "metadata": {},
   "outputs": [],
   "source": [
    "import logging\n",
    "\n",
    "import torch\n",
    "import torch.optim as optim\n",
    "\n",
    "from robustbench.data import load_cifar10c\n",
    "from robustbench.model_zoo.enums import ThreatModel\n",
    "from robustbench.utils import load_model\n",
    "from nets import *\n",
    "\n",
    "import time\n",
    "import tent\n",
    "import norm\n",
    "import oracle\n",
    "from utils import *\n",
    "from matplotlib import pyplot as plt\n",
    "\n",
    "\n",
    "import ipdb\n",
    "\n",
    "from conf import cfg, load_cfg_fom_args, merge_from_file\n",
    "\n",
    "corruption_list = ['gaussian_noise', 'shot_noise', 'impulse_noise', 'defocus_blur', 'glass_blur', 'motion_blur', 'zoom_blur', 'snow', 'frost', 'fog', 'brightness',\n",
    "                        'contrast', 'elastic_transform', 'pixelate', 'jpeg_compression']\n"
   ]
  },
  {
   "cell_type": "code",
   "execution_count": 2,
   "metadata": {},
   "outputs": [
    {
     "name": "stdout",
     "output_type": "stream",
     "text": [
      "BN:\n",
      "  EPS: 1e-05\n",
      "  MOM: 0.1\n",
      "CKPT_DIR: ./ckpt\n",
      "CORRUPTION:\n",
      "  DATASET: cifar10\n",
      "  NUM_EX: 10000\n",
      "  SEVERITY: [3]\n",
      "  TYPE: ['gaussian_noise']\n",
      "CUDNN:\n",
      "  BENCHMARK: True\n",
      "DATA_DIR: /gallery_tate/wonjae.roh\n",
      "DESC: \n",
      "EPOCH: 50\n",
      "EXPERIMENTAL:\n",
      "  LINEAR_RETRAIN: False\n",
      "ITERATION: 1\n",
      "LOG_DEST: log.txt\n",
      "LOG_TIME: \n",
      "MODEL:\n",
      "  ADAPTATION: pl\n",
      "  ARCH: Hendrycks2020AugMix_WRN\n",
      "  EPISODIC: False\n",
      "OPTIM:\n",
      "  BETA: 0.9\n",
      "  DAMPENING: 0.0\n",
      "  LR: 0.001\n",
      "  METHOD: Adam\n",
      "  MOMENTUM: 0.9\n",
      "  NESTEROV: True\n",
      "  STEPS: 1\n",
      "  WD: 0.0\n",
      "RNG_SEED: 1\n",
      "SAVE_DIR: ./output\n",
      "TEST:\n",
      "  BATCH_SIZE: 200\n"
     ]
    }
   ],
   "source": [
    "logger = logging.getLogger(__name__)\n",
    "#TODO: build multistage.yaml\n",
    "merge_from_file('cfgs/multistage.yaml')\n",
    "device = torch.device(\"cuda\" if torch.cuda.is_available() else \"cpu\")\n",
    "\n",
    "print(cfg)"
   ]
  },
  {
   "cell_type": "markdown",
   "metadata": {},
   "source": [
    "### adaptation 없이 initial high_entropy samples, low_entropy samples index 찾기"
   ]
  },
  {
   "cell_type": "code",
   "execution_count": 3,
   "metadata": {},
   "outputs": [],
   "source": [
    "def setup_tent(model):\n",
    "    \"\"\"Set up tent adaptation.\n",
    "\n",
    "    Configure the model for training + feature modulation by batch statistics,\n",
    "    collect the parameters for feature modulation by gradient optimization,\n",
    "    set up the optimizer, and then tent the model.\n",
    "    \"\"\"\n",
    "    model = tent.configure_model(model)\n",
    "    params, param_names = tent.collect_params(model)\n",
    "    optimizer = setup_optimizer(params)\n",
    "    tent_model = tent.Tent(model, optimizer,\n",
    "                           steps=cfg.OPTIM.STEPS,\n",
    "                           episodic=cfg.MODEL.EPISODIC)\n",
    "    logger.info(f\"model for adaptation: %s\", model)\n",
    "    logger.info(f\"params for adaptation: %s\", param_names)\n",
    "    logger.info(f\"optimizer for adaptation: %s\", optimizer)\n",
    "    return tent_model\n",
    "\n",
    "def setup_pl(model):\n",
    "    \"\"\"Set up tent adaptation.\n",
    "\n",
    "    Configure the model for training + feature modulation by batch statistics,\n",
    "    collect the parameters for feature modulation by gradient optimization,\n",
    "    set up the optimizer, and then tent the model.\n",
    "    \"\"\"\n",
    "    model = tent.configure_model(model)\n",
    "    params, param_names = tent.collect_params(model)\n",
    "    optimizer = setup_optimizer(params)\n",
    "    pl_model = tent.PL(model, optimizer,\n",
    "                           steps=cfg.OPTIM.STEPS,\n",
    "                           episodic=cfg.MODEL.EPISODIC)\n",
    "    logger.info(f\"model for adaptation: %s\", model)\n",
    "    logger.info(f\"params for adaptation: %s\", param_names)\n",
    "    logger.info(f\"optimizer for adaptation: %s\", optimizer)\n",
    "    return pl_model\n",
    "\n",
    "def setup_optimizer(params):\n",
    "    \"\"\"Set up optimizer for tent adaptation.\n",
    "\n",
    "    Tent needs an optimizer for test-time entropy minimization.\n",
    "    In principle, tent could make use of any gradient optimizer.\n",
    "    In practice, we advise choosing Adam or SGD+momentum.\n",
    "    For optimization settings, we advise to use the settings from the end of\n",
    "    trainig, if known, or start with a low learning rate (like 0.001) if not.\n",
    "\n",
    "    For best results, try tuning the learning rate and batch size.\n",
    "    \"\"\"\n",
    "    if cfg.OPTIM.METHOD == 'Adam':\n",
    "        return optim.Adam(params,\n",
    "                    lr=cfg.OPTIM.LR,\n",
    "                    betas=(cfg.OPTIM.BETA, 0.999),\n",
    "                    weight_decay=cfg.OPTIM.WD)\n",
    "    elif cfg.OPTIM.METHOD == 'SGD':\n",
    "        return optim.SGD(params,\n",
    "                   lr=cfg.OPTIM.LR,\n",
    "                   momentum=cfg.OPTIM.MOMENTUM,\n",
    "                   dampening=cfg.OPTIM.DAMPENING,\n",
    "                   weight_decay=cfg.OPTIM.WD,\n",
    "                   nesterov=cfg.OPTIM.NESTEROV)\n",
    "    else:\n",
    "        raise NotImplementedError\n",
    "    \n",
    "def setup_source(model):\n",
    "    \"\"\"Set up the baseline source model without adaptation.\"\"\"\n",
    "    model.eval()\n",
    "    logger.info(f\"model for evaluation: %s\", model)\n",
    "    return model"
   ]
  },
  {
   "cell_type": "code",
   "execution_count": 4,
   "metadata": {},
   "outputs": [],
   "source": [
    "\n",
    "# configure model\n",
    "\n",
    "if cfg.MODEL.ARCH == \"Hendrycks2020AugMix_WRN\":\n",
    "    base_model = load_model(cfg.MODEL.ARCH, cfg.CKPT_DIR, cfg.CORRUPTION.DATASET, ThreatModel.corruptions).to(device)\n",
    "elif cfg.MODEL.ARCH == \"RN18\":\n",
    "    base_model = ResNet18(n_classes=10)\n",
    "    ckpt = torch.load(\"/home2/wonjae.roh/nprc/tent/ckpt/cifar10/corruptions/ResNet18_pretrained.pth.tar\", map_location=device)\n",
    "    base_model.load_state_dict(ckpt[\"pretrain-learner\"])\n",
    "else:\n",
    "    raise NotImplementedError\n",
    "\n",
    "\n",
    "x_test, y_test = load_cifar10c(cfg.CORRUPTION.NUM_EX, cfg.CORRUPTION.SEVERITY[0], cfg.DATA_DIR, False, cfg.CORRUPTION.TYPE)\n",
    "x_test, y_test = x_test.to(device), y_test.to(device)\n",
    "\n",
    "acc, outputs = get_stats(base_model, x_test, y_test, cfg.TEST.BATCH_SIZE, device=device,\n",
    "                                        iteration=1,\n",
    "                                        corruption_type=cfg.CORRUPTION.TYPE,\n",
    "                                        return_raw=True)\n",
    "\n"
   ]
  },
  {
   "cell_type": "code",
   "execution_count": 5,
   "metadata": {},
   "outputs": [
    {
     "data": {
      "text/plain": [
       "[<matplotlib.lines.Line2D at 0x7f9bd0174520>]"
      ]
     },
     "execution_count": 5,
     "metadata": {},
     "output_type": "execute_result"
    },
    {
     "data": {
      "image/png": "[encoded data removed]",
      "text/plain": [
       "<Figure size 640x480 with 1 Axes>"
      ]
     },
     "metadata": {},
     "output_type": "display_data"
    }
   ],
   "source": [
    "%matplotlib inline\n",
    "\n",
    "entropy = tent.softmax_entropy(outputs)\n",
    "entropy = torch.log2(entropy)\n",
    "entropy_sorted, entropy_sorted_index = entropy.sort()\n",
    "plt.plot(entropy_sorted.numpy())\n",
    "\n",
    "high_index = entropy_sorted_index[5000:]\n",
    "low_index = entropy_sorted_index[:5000]\n",
    "high_values = entropy[high_index]\n",
    "low_values = entropy[low_index]\n",
    "plt.plot(high_values.numpy())"
   ]
  },
  {
   "cell_type": "markdown",
   "metadata": {},
   "source": [
    "### Correct samples, Wrong samples entropy histogram visualize"
   ]
  },
  {
   "cell_type": "code",
   "execution_count": 6,
   "metadata": {},
   "outputs": [
    {
     "name": "stdout",
     "output_type": "stream",
     "text": [
      "                 0\n",
      "count  7955.000000\n",
      "mean     -5.570647\n",
      "std       3.052094\n",
      "min     -13.812100\n",
      "25%      -8.017754\n",
      "50%      -6.080189\n",
      "75%      -3.084206\n",
      "max       0.750064\n",
      "                 0\n",
      "count  2045.000000\n",
      "mean     -1.759805\n",
      "std       2.239306\n",
      "min     -12.338400\n",
      "25%      -2.637235\n",
      "50%      -0.935519\n",
      "75%      -0.192706\n",
      "max       0.845291\n"
     ]
    },
    {
     "data": {
      "text/plain": [
       "(array([  1.,   0.,   0.,   0.,   0.,   0.,   0.,   0.,   1.,   0.,   0.,\n",
       "          2.,   0.,   0.,   1.,   1.,   2.,   1.,   1.,   0.,   2.,   2.,\n",
       "          1.,   2.,   1.,   4.,   3.,   3.,   6.,   6.,   0.,   1.,   2.,\n",
       "          6.,   2.,   7.,   6.,   6.,  11.,   4.,   4.,   3.,   8.,   6.,\n",
       "          9.,   5.,   7.,   9.,  12.,  12.,  13.,   7.,   8.,  19.,  12.,\n",
       "         17.,  13.,   9.,   8.,  14.,   5.,  12.,  11.,  21.,  18.,  16.,\n",
       "         15.,  20.,  14.,  23.,  18.,  22.,  24.,  22.,  29.,  25.,  26.,\n",
       "         38.,  29.,  31.,  43.,  37.,  43.,  51.,  47.,  64.,  68.,  63.,\n",
       "         87., 120., 108.,  92., 101.,  92.,  96.,  89.,  69.,  45.,  22.,\n",
       "          9.]),\n",
       " array([-12.33839989, -12.206563  , -12.0747261 , -11.94288921,\n",
       "        -11.81105232, -11.67921543, -11.54737854, -11.41554165,\n",
       "        -11.28370476, -11.15186787, -11.02003098, -10.88819408,\n",
       "        -10.75635719, -10.6245203 , -10.49268341, -10.36084652,\n",
       "        -10.22900963, -10.09717274,  -9.96533585,  -9.83349895,\n",
       "         -9.70166206,  -9.56982517,  -9.43798828,  -9.30615139,\n",
       "         -9.1743145 ,  -9.04247665,  -8.91063976,  -8.77880287,\n",
       "         -8.64696598,  -8.51512909,  -8.3832922 ,  -8.25145531,\n",
       "         -8.11961842,  -7.987782  ,  -7.85594511,  -7.72410822,\n",
       "         -7.59227133,  -7.46043444,  -7.32859707,  -7.19676018,\n",
       "         -7.06492329,  -6.9330864 ,  -6.8012495 ,  -6.66941261,\n",
       "         -6.53757572,  -6.40573883,  -6.27390194,  -6.14206505,\n",
       "         -6.01022816,  -5.87839127,  -5.74655437,  -5.61471748,\n",
       "         -5.48288059,  -5.3510437 ,  -5.21920681,  -5.08736992,\n",
       "         -4.95553303,  -4.82369614,  -4.69185925,  -4.56002235,\n",
       "         -4.42818546,  -4.29634857,  -4.16451168,  -4.03267431,\n",
       "         -3.90083766,  -3.76900077,  -3.63716388,  -3.50532699,\n",
       "         -3.3734901 ,  -3.24165297,  -3.10981607,  -2.97797918,\n",
       "         -2.84614229,  -2.7143054 ,  -2.58246851,  -2.45063162,\n",
       "         -2.31879473,  -2.18695784,  -2.05512094,  -1.92328393,\n",
       "         -1.79144704,  -1.65961015,  -1.52777326,  -1.39593637,\n",
       "         -1.26409948,  -1.13226247,  -1.00042558,  -0.86858869,\n",
       "         -0.73675179,  -0.6049149 ,  -0.47307795,  -0.34124106,\n",
       "         -0.20940414,  -0.07756723,   0.05426968,   0.18610659,\n",
       "          0.31794348,   0.4497804 ,   0.5816173 ,   0.71345425,\n",
       "          0.84529114]),\n",
       " [<matplotlib.patches.Polygon at 0x7f9bd009d5b0>])"
      ]
     },
     "execution_count": 6,
     "metadata": {},
     "output_type": "execute_result"
    },
    {
     "data": {
      "image/png": "[encoded data removed]",
      "text/plain": [
       "<Figure size 640x480 with 1 Axes>"
      ]
     },
     "metadata": {},
     "output_type": "display_data"
    }
   ],
   "source": [
    "import pandas as pd\n",
    "\n",
    "data_dir = \"/gallery_tate/wonjae.roh/cifar10c\"\n",
    "labels_path = data_dir + '/labels.npy'\n",
    "labels = np.load(labels_path)\n",
    "# labels는 10000 sample, 5 severity에 대해 10000개의 같은 label이 5번 반복되는 형태이므로 잘라준다\n",
    "labels = labels[:10000]\n",
    "\n",
    "predicted = outputs.argmax(axis=1).numpy()\n",
    "\n",
    "correct = predicted==labels\n",
    "wrong = ~correct\n",
    "entropy_numpy = entropy.numpy()\n",
    "\n",
    "correct_entropy = entropy_numpy[correct]\n",
    "wrong_entropy = entropy_numpy[wrong]\n",
    "\n",
    "correct_describe = pd.DataFrame(correct_entropy)\n",
    "print(correct_describe.describe())\n",
    "wrong_describe = pd.DataFrame(wrong_entropy)\n",
    "print(wrong_describe.describe())\n",
    "\n",
    "plt.hist(correct_describe, bins=100, density=False, alpha=0.5, histtype='stepfilled', color='orange', edgecolor='none')\n",
    "plt.hist(wrong_describe, bins=100, density=False, alpha=0.5, histtype='stepfilled', color='steelblue', edgecolor='none')"
   ]
  },
  {
   "cell_type": "code",
   "execution_count": 7,
   "metadata": {},
   "outputs": [
    {
     "name": "stdout",
     "output_type": "stream",
     "text": [
      "threshold : -5.0855\n",
      "low_error : 4.38\n",
      "high_error : 36.53\n",
      "total_error : 20.45\n"
     ]
    }
   ],
   "source": [
    "threshold = entropy_sorted[5000].item()\n",
    "print(f'threshold : {threshold:.4f}') \n",
    "\n",
    "correct_high = np.sum(correct_describe > threshold)\n",
    "correct_low = np.sum(correct_describe < threshold)\n",
    "wrong_high = np.sum(wrong_describe > threshold)\n",
    "wrong_low = np.sum(wrong_describe < threshold)\n",
    "\n",
    "low_error = 100-float(correct_low * 100 / (correct_low + wrong_low))\n",
    "high_error = 100-float(correct_high * 100 / (correct_high + wrong_high))\n",
    "total_error = (low_error + high_error) / 2\n",
    "                       \n",
    "print(f'low_error : {low_error:.2f}')\n",
    "print(f'high_error : {high_error:.2f}') \n",
    "print(f'total_error : {total_error:.2f}') "
   ]
  },
  {
   "cell_type": "markdown",
   "metadata": {},
   "source": [
    "### Dataloader (low_entropy, high_entropy, all)"
   ]
  },
  {
   "cell_type": "code",
   "execution_count": 8,
   "metadata": {},
   "outputs": [],
   "source": [
    "def get_subset(x, y, indices, shuffle=False):\n",
    "    \"\"\"get subset of data from indices\n",
    "    Args:\n",
    "    x: data\n",
    "    y: labels\n",
    "    indices: indices to get subset\n",
    "    Returns:\n",
    "    subset of data and labels\n",
    "    \"\"\"\n",
    "    x_sub = x[indices]\n",
    "    y_sub = y[indices]\n",
    "\n",
    "    if shuffle:\n",
    "        rand_idx = np.random.permutation(np.arange(len(x_sub)))\n",
    "        x_sub, y_sub = x_sub[rand_idx], y_sub[rand_idx]\n",
    "\n",
    "    return x_sub, y_sub\n",
    "        \n",
    "x_low, y_low = get_subset(x_test, y_test, low_index, shuffle=True)\n",
    "x_high, y_high = get_subset(x_test, y_test, high_index, shuffle=True)     "
   ]
  },
  {
   "cell_type": "markdown",
   "metadata": {},
   "source": [
    "### adaptation with suitable dataset (all)"
   ]
  },
  {
   "cell_type": "code",
   "execution_count": 9,
   "metadata": {},
   "outputs": [],
   "source": [
    "def vis_entropy_histogram(outputs, labels):\n",
    "    entropy = tent.softmax_entropy(outputs)\n",
    "    entropy = torch.log2(entropy)\n",
    "    entropy_numpy = entropy.numpy()\n",
    "    labels = labels.numpy()\n",
    "\n",
    "    predicted = outputs.argmax(axis=1).numpy()\n",
    "\n",
    "    correct = predicted==labels\n",
    "    wrong = ~correct\n",
    "\n",
    "    correct_entropy = entropy_numpy[correct]\n",
    "    wrong_entropy = entropy_numpy[wrong]\n",
    "\n",
    "\n",
    "    correct_describe = pd.DataFrame(correct_entropy)\n",
    "    print(correct_describe.describe())\n",
    "    wrong_describe = pd.DataFrame(wrong_entropy)\n",
    "    print(wrong_describe.describe())\n",
    "\n",
    "    plt.hist(correct_describe, bins=100, density=False, alpha=0.5, histtype='stepfilled', color='orange', edgecolor='none')\n",
    "    plt.hist(wrong_describe, bins=100, density=False, alpha=0.5, histtype='stepfilled', color='steelblue', edgecolor='none')"
   ]
  },
  {
   "cell_type": "code",
   "execution_count": 10,
   "metadata": {},
   "outputs": [],
   "source": [
    "if cfg.MODEL.ADAPTATION == \"tent\":\n",
    "    logger.info(\"test-time adaptation: TENT\")\n",
    "    model = setup_tent(base_model)\n",
    "elif cfg.MODEL.ADAPTATION == \"source\":\n",
    "    logger.info(\"test-time adaptation: SOURCE\")\n",
    "    model = setup_source(base_model)\n",
    "elif cfg.MODEL.ADAPTATION == \"pl\":\n",
    "    logger.info(\"test-time adaptation: PL\")\n",
    "    model = setup_pl(base_model)"
   ]
  },
  {
   "cell_type": "code",
   "execution_count": 11,
   "metadata": {},
   "outputs": [
    {
     "name": "stdout",
     "output_type": "stream",
     "text": [
      "block1.layer.0.bn1.weight\n",
      "block1.layer.0.bn1.bias\n",
      "block1.layer.0.bn2.weight\n",
      "block1.layer.0.bn2.bias\n",
      "block1.layer.1.bn1.weight\n",
      "block1.layer.1.bn1.bias\n",
      "block1.layer.1.bn2.weight\n",
      "block1.layer.1.bn2.bias\n",
      "block1.layer.2.bn1.weight\n",
      "block1.layer.2.bn1.bias\n",
      "block1.layer.2.bn2.weight\n",
      "block1.layer.2.bn2.bias\n",
      "block1.layer.3.bn1.weight\n",
      "block1.layer.3.bn1.bias\n",
      "block1.layer.3.bn2.weight\n",
      "block1.layer.3.bn2.bias\n",
      "block1.layer.4.bn1.weight\n",
      "block1.layer.4.bn1.bias\n",
      "block1.layer.4.bn2.weight\n",
      "block1.layer.4.bn2.bias\n",
      "block1.layer.5.bn1.weight\n",
      "block1.layer.5.bn1.bias\n",
      "block1.layer.5.bn2.weight\n",
      "block1.layer.5.bn2.bias\n",
      "block2.layer.0.bn1.weight\n",
      "block2.layer.0.bn1.bias\n",
      "block2.layer.0.bn2.weight\n",
      "block2.layer.0.bn2.bias\n",
      "block2.layer.1.bn1.weight\n",
      "block2.layer.1.bn1.bias\n",
      "block2.layer.1.bn2.weight\n",
      "block2.layer.1.bn2.bias\n",
      "block2.layer.2.bn1.weight\n",
      "block2.layer.2.bn1.bias\n",
      "block2.layer.2.bn2.weight\n",
      "block2.layer.2.bn2.bias\n",
      "block2.layer.3.bn1.weight\n",
      "block2.layer.3.bn1.bias\n",
      "block2.layer.3.bn2.weight\n",
      "block2.layer.3.bn2.bias\n",
      "block2.layer.4.bn1.weight\n",
      "block2.layer.4.bn1.bias\n",
      "block2.layer.4.bn2.weight\n",
      "block2.layer.4.bn2.bias\n",
      "block2.layer.5.bn1.weight\n",
      "block2.layer.5.bn1.bias\n",
      "block2.layer.5.bn2.weight\n",
      "block2.layer.5.bn2.bias\n",
      "block3.layer.0.bn1.weight\n",
      "block3.layer.0.bn1.bias\n",
      "block3.layer.0.bn2.weight\n",
      "block3.layer.0.bn2.bias\n",
      "block3.layer.1.bn1.weight\n",
      "block3.layer.1.bn1.bias\n",
      "block3.layer.1.bn2.weight\n",
      "block3.layer.1.bn2.bias\n",
      "block3.layer.2.bn1.weight\n",
      "block3.layer.2.bn1.bias\n",
      "block3.layer.2.bn2.weight\n",
      "block3.layer.2.bn2.bias\n",
      "block3.layer.3.bn1.weight\n",
      "block3.layer.3.bn1.bias\n",
      "block3.layer.3.bn2.weight\n",
      "block3.layer.3.bn2.bias\n",
      "block3.layer.4.bn1.weight\n",
      "block3.layer.4.bn1.bias\n",
      "block3.layer.4.bn2.weight\n",
      "block3.layer.4.bn2.bias\n",
      "block3.layer.5.bn1.weight\n",
      "block3.layer.5.bn1.bias\n",
      "block3.layer.5.bn2.weight\n",
      "block3.layer.5.bn2.bias\n",
      "bn1.weight\n",
      "bn1.bias\n"
     ]
    }
   ],
   "source": [
    "model.reset()\n",
    "\n",
    "# check if it only prints desirable updating parameters\n",
    "check_freeze(model.model)\n",
    " "
   ]
  },
  {
   "cell_type": "code",
   "execution_count": 12,
   "metadata": {},
   "outputs": [
    {
     "name": "stdout",
     "output_type": "stream",
     "text": [
      "total_error : 13.44\n"
     ]
    }
   ],
   "source": [
    "# adapt on low entropy samples\n",
    "acc_total, outputs_total = get_stats(model, x_test, y_test, cfg.TEST.BATCH_SIZE, device=device,\n",
    "                                        iteration=1,\n",
    "                                        corruption_type=cfg.CORRUPTION.TYPE,\n",
    "                                        return_raw=True, no_grad=False)\n",
    "print(f'total_error : {(1-acc_total)*100:.2f}') "
   ]
  },
  {
   "cell_type": "markdown",
   "metadata": {},
   "source": [
    "### adaptation with suitable dataset (low)"
   ]
  },
  {
   "cell_type": "code",
   "execution_count": 13,
   "metadata": {},
   "outputs": [
    {
     "name": "stdout",
     "output_type": "stream",
     "text": [
      "low_error : 4.34\n",
      "high_error : 23.18\n",
      "total_error : 13.76\n"
     ]
    }
   ],
   "source": [
    "model.reset()\n",
    "\n",
    "# check if it only prints desirable updating parameters\n",
    "# check_freeze(model.model)\n",
    "\n",
    "# adapt on low entropy samples\n",
    "acc_low, outputs_low = get_stats(model, x_low, y_low, cfg.TEST.BATCH_SIZE, device=device,\n",
    "                                        iteration=1,\n",
    "                                        corruption_type=cfg.CORRUPTION.TYPE,\n",
    "                                        return_raw=True, no_grad=False)\n",
    "print(f'low_error : {(1-acc_low)*100:.2f}')  \n",
    "\n",
    "# without updating, check on high entropy samples\n",
    "acc_high, outputs_high = get_stats(model, x_high, y_high, cfg.TEST.BATCH_SIZE, device=device,\n",
    "                                        iteration=1,\n",
    "                                        corruption_type=cfg.CORRUPTION.TYPE,\n",
    "                                        return_raw=True, no_grad=True) \n",
    "print(f'high_error : {(1-acc_high)*100:.2f}')  \n",
    "acc_total = (acc_low + acc_high) / 2\n",
    "print(f'total_error : {(1-acc_total)*100:.2f}') \n"
   ]
  },
  {
   "cell_type": "code",
   "execution_count": 14,
   "metadata": {},
   "outputs": [
    {
     "name": "stdout",
     "output_type": "stream",
     "text": [
      "                 0\n",
      "count  4783.000000\n",
      "mean     -5.489309\n",
      "std       2.069470\n",
      "min     -11.031408\n",
      "25%      -6.947644\n",
      "50%      -5.863017\n",
      "75%      -4.399701\n",
      "max       1.045882\n",
      "                0\n",
      "count  217.000000\n",
      "mean    -1.332404\n",
      "std      2.010653\n",
      "min     -7.513591\n",
      "25%     -2.160098\n",
      "50%     -0.538005\n",
      "75%      0.049293\n",
      "max      1.145947\n"
     ]
    },
    {
     "data": {
      "image/png": "[encoded data removed]",
      "text/plain": [
       "<Figure size 640x480 with 1 Axes>"
      ]
     },
     "metadata": {},
     "output_type": "display_data"
    }
   ],
   "source": [
    "vis_entropy_histogram(outputs_low, y_low)"
   ]
  },
  {
   "cell_type": "code",
   "execution_count": 15,
   "metadata": {},
   "outputs": [
    {
     "name": "stdout",
     "output_type": "stream",
     "text": [
      "                 0\n",
      "count  3841.000000\n",
      "mean     -3.131067\n",
      "std       2.193797\n",
      "min     -11.192263\n",
      "25%      -4.713347\n",
      "50%      -3.013804\n",
      "75%      -1.265322\n",
      "max       0.988287\n",
      "                 0\n",
      "count  1159.000000\n",
      "mean     -0.934385\n",
      "std       1.363903\n",
      "min      -7.701059\n",
      "25%      -1.399396\n",
      "50%      -0.546301\n",
      "75%      -0.008182\n",
      "max       1.066196\n"
     ]
    },
    {
     "data": {
      "image/png": "[encoded data removed]",
      "text/plain": [
       "<Figure size 640x480 with 1 Axes>"
      ]
     },
     "metadata": {},
     "output_type": "display_data"
    }
   ],
   "source": [
    "vis_entropy_histogram(outputs_high, y_high)"
   ]
  },
  {
   "cell_type": "markdown",
   "metadata": {},
   "source": [
    "### adaptation with suitable dataset (high)"
   ]
  },
  {
   "cell_type": "code",
   "execution_count": 16,
   "metadata": {},
   "outputs": [
    {
     "name": "stdout",
     "output_type": "stream",
     "text": [
      "low_error : 5.08\n",
      "high_error : 23.62\n",
      "total_error : 14.35\n"
     ]
    }
   ],
   "source": [
    "model.reset()\n",
    "\n",
    "# check if it only prints desirable updating parameters\n",
    "# check_freeze(model.model)\n",
    "\n",
    "# adapt on low entropy samples\n",
    "acc_high, outputs_high = get_stats(model, x_high, y_high, cfg.TEST.BATCH_SIZE, device=device,\n",
    "                                        iteration=1,\n",
    "                                        corruption_type=cfg.CORRUPTION.TYPE,\n",
    "                                        return_raw=True, no_grad=False)\n",
    "\n",
    "# without updating, check on high entropy samples\n",
    "acc_low, outputs_low = get_stats(model, x_low, y_low, cfg.TEST.BATCH_SIZE, device=device,\n",
    "                                        iteration=1,\n",
    "                                        corruption_type=cfg.CORRUPTION.TYPE,\n",
    "                                        return_raw=True, no_grad=True) \n",
    "print(f'low_error : {(1-acc_low)*100:.2f}')  \n",
    "print(f'high_error : {(1-acc_high)*100:.2f}')  \n",
    "acc_total = (acc_low + acc_high) / 2\n",
    "print(f'total_error : {(1-acc_total)*100:.2f}') "
   ]
  },
  {
   "cell_type": "code",
   "execution_count": 17,
   "metadata": {},
   "outputs": [
    {
     "name": "stdout",
     "output_type": "stream",
     "text": [
      "                 0\n",
      "count  4746.000000\n",
      "mean     -5.768649\n",
      "std       2.077569\n",
      "min     -11.127649\n",
      "25%      -7.217467\n",
      "50%      -6.123662\n",
      "75%      -4.670621\n",
      "max       0.808907\n",
      "                0\n",
      "count  254.000000\n",
      "mean    -1.439922\n",
      "std      1.928299\n",
      "min     -7.918945\n",
      "25%     -2.425523\n",
      "50%     -0.605535\n",
      "75%     -0.089312\n",
      "max      1.000530\n"
     ]
    },
    {
     "data": {
      "image/png": "[encoded data removed]",
      "text/plain": [
       "<Figure size 640x480 with 1 Axes>"
      ]
     },
     "metadata": {},
     "output_type": "display_data"
    }
   ],
   "source": [
    "vis_entropy_histogram(outputs_low, y_low)"
   ]
  },
  {
   "cell_type": "code",
   "execution_count": 18,
   "metadata": {},
   "outputs": [
    {
     "name": "stdout",
     "output_type": "stream",
     "text": [
      "                 0\n",
      "count  3819.000000\n",
      "mean     -3.046161\n",
      "std       2.236049\n",
      "min     -11.480021\n",
      "25%      -4.676405\n",
      "50%      -2.877584\n",
      "75%      -1.187755\n",
      "max       1.169344\n",
      "                 0\n",
      "count  1181.000000\n",
      "mean     -0.714554\n",
      "std       1.266194\n",
      "min      -7.005665\n",
      "25%      -1.156967\n",
      "50%      -0.399614\n",
      "75%       0.132496\n",
      "max       1.148164\n"
     ]
    },
    {
     "data": {
      "image/png": "[encoded data removed]",
      "text/plain": [
       "<Figure size 640x480 with 1 Axes>"
      ]
     },
     "metadata": {},
     "output_type": "display_data"
    }
   ],
   "source": [
    "vis_entropy_histogram(outputs_high, y_high)"
   ]
  },
  {
   "cell_type": "markdown",
   "metadata": {},
   "source": [
    "ResNet18 기준으로는 차이가 좀 나네"
   ]
  }
 ],
 "metadata": {
  "kernelspec": {
   "display_name": "TENT",
   "language": "python",
   "name": "python3"
  },
  "language_info": {
   "codemirror_mode": {
    "name": "ipython",
    "version": 3
   },
   "file_extension": ".py",
   "mimetype": "text/x-python",
   "name": "python",
   "nbconvert_exporter": "python",
   "pygments_lexer": "ipython3",
   "version": "3.8.16"
  },
  "orig_nbformat": 4
 },
 "nbformat": 4,
 "nbformat_minor": 2
}
