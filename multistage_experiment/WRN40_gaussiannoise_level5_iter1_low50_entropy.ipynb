{
 "cells": [
  {
   "cell_type": "code",
   "execution_count": 1,
   "metadata": {},
   "outputs": [],
   "source": [
    "import logging\n",
    "\n",
    "import torch\n",
    "import torch.optim as optim\n",
    "\n",
    "from robustbench.data import load_cifar10c\n",
    "from robustbench.model_zoo.enums import ThreatModel\n",
    "from robustbench.utils import load_model\n",
    "\n",
    "import time\n",
    "import tent\n",
    "import norm\n",
    "import oracle\n",
    "from utils import *\n",
    "from matplotlib import pyplot as plt\n",
    "\n",
    "import ipdb\n",
    "\n",
    "from conf import cfg, load_cfg_fom_args, merge_from_file\n",
    "\n",
    "corruption_list = ['gaussian_noise', 'shot_noise', 'impulse_noise', 'defocus_blur', 'glass_blur', 'motion_blur', 'zoom_blur', 'snow', 'frost', 'fog', 'brightness',\n",
    "                        'contrast', 'elastic_transform', 'pixelate', 'jpeg_compression']\n"
   ]
  },
  {
   "cell_type": "code",
   "execution_count": 2,
   "metadata": {},
   "outputs": [],
   "source": [
    "logger = logging.getLogger(__name__)\n",
    "#TODO: build multistage.yaml\n",
    "merge_from_file('cfgs/multistage.yaml')\n",
    "device = torch.device(\"cuda\" if torch.cuda.is_available() else \"cpu\")"
   ]
  },
  {
   "cell_type": "markdown",
   "metadata": {},
   "source": [
    "### adaptation 없이 initial high_entropy samples, low_entropy samples index 찾기"
   ]
  },
  {
   "cell_type": "code",
   "execution_count": 3,
   "metadata": {},
   "outputs": [],
   "source": [
    "def setup_tent(model):\n",
    "    \"\"\"Set up tent adaptation.\n",
    "\n",
    "    Configure the model for training + feature modulation by batch statistics,\n",
    "    collect the parameters for feature modulation by gradient optimization,\n",
    "    set up the optimizer, and then tent the model.\n",
    "    \"\"\"\n",
    "    model = tent.configure_model(model)\n",
    "    params, param_names = tent.collect_params(model)\n",
    "    optimizer = setup_optimizer(params)\n",
    "    tent_model = tent.Tent(model, optimizer,\n",
    "                           steps=cfg.OPTIM.STEPS,\n",
    "                           episodic=cfg.MODEL.EPISODIC)\n",
    "    logger.info(f\"model for adaptation: %s\", model)\n",
    "    logger.info(f\"params for adaptation: %s\", param_names)\n",
    "    logger.info(f\"optimizer for adaptation: %s\", optimizer)\n",
    "    return tent_model\n",
    "\n",
    "def setup_optimizer(params):\n",
    "    \"\"\"Set up optimizer for tent adaptation.\n",
    "\n",
    "    Tent needs an optimizer for test-time entropy minimization.\n",
    "    In principle, tent could make use of any gradient optimizer.\n",
    "    In practice, we advise choosing Adam or SGD+momentum.\n",
    "    For optimization settings, we advise to use the settings from the end of\n",
    "    trainig, if known, or start with a low learning rate (like 0.001) if not.\n",
    "\n",
    "    For best results, try tuning the learning rate and batch size.\n",
    "    \"\"\"\n",
    "    if cfg.OPTIM.METHOD == 'Adam':\n",
    "        return optim.Adam(params,\n",
    "                    lr=cfg.OPTIM.LR,\n",
    "                    betas=(cfg.OPTIM.BETA, 0.999),\n",
    "                    weight_decay=cfg.OPTIM.WD)\n",
    "    elif cfg.OPTIM.METHOD == 'SGD':\n",
    "        return optim.SGD(params,\n",
    "                   lr=cfg.OPTIM.LR,\n",
    "                   momentum=cfg.OPTIM.MOMENTUM,\n",
    "                   dampening=cfg.OPTIM.DAMPENING,\n",
    "                   weight_decay=cfg.OPTIM.WD,\n",
    "                   nesterov=cfg.OPTIM.NESTEROV)\n",
    "    else:\n",
    "        raise NotImplementedError\n",
    "    \n",
    "def setup_source(model):\n",
    "    \"\"\"Set up the baseline source model without adaptation.\"\"\"\n",
    "    model.eval()\n",
    "    logger.info(f\"model for evaluation: %s\", model)\n",
    "    return model"
   ]
  },
  {
   "cell_type": "code",
   "execution_count": 4,
   "metadata": {},
   "outputs": [],
   "source": [
    "\n",
    "# configure model\n",
    "base_model = load_model(cfg.MODEL.ARCH, cfg.CKPT_DIR,\n",
    "                    cfg.CORRUPTION.DATASET, ThreatModel.corruptions).to(device)\n",
    "# if cfg.MODEL.ADAPTATION == \"tent\":\n",
    "#     logger.info(\"test-time adaptation: TENT\")\n",
    "#     model = setup_tent(base_model)\n",
    "# elif cfg.MODEL.ADAPTATION == \"source\":\n",
    "#     logger.info(\"test-time adaptation: SOURCE\")\n",
    "#     model = setup_source(base_model)\n",
    "\n",
    "x_test, y_test = load_cifar10c(cfg.CORRUPTION.NUM_EX, cfg.CORRUPTION.SEVERITY[0], cfg.DATA_DIR, False, cfg.CORRUPTION.TYPE)\n",
    "x_test, y_test = x_test.to(device), y_test.to(device)\n",
    "\n",
    "acc, outputs = get_stats(base_model, x_test, y_test, cfg.TEST.BATCH_SIZE, device=device,\n",
    "                                        iteration=1,\n",
    "                                        corruption_type=cfg.CORRUPTION.TYPE,\n",
    "                                        return_raw=True)\n",
    "\n"
   ]
  },
  {
   "cell_type": "code",
   "execution_count": 5,
   "metadata": {},
   "outputs": [
    {
     "data": {
      "text/plain": [
       "[<matplotlib.lines.Line2D at 0x7f01fc03dd60>]"
      ]
     },
     "execution_count": 5,
     "metadata": {},
     "output_type": "execute_result"
    },
    {
     "data": {
      "image/png": "[encoded data removed]",
      "text/plain": [
       "<Figure size 640x480 with 1 Axes>"
      ]
     },
     "metadata": {},
     "output_type": "display_data"
    }
   ],
   "source": [
    "%matplotlib inline\n",
    "\n",
    "entropy = tent.softmax_entropy(outputs)\n",
    "entropy = torch.log2(entropy)\n",
    "entropy_sorted, entropy_sorted_index = entropy.sort()\n",
    "plt.plot(entropy_sorted.numpy())\n",
    "\n",
    "high_index = entropy_sorted_index[5000:]\n",
    "low_index = entropy_sorted_index[:5000]\n",
    "high_values = entropy[high_index]\n",
    "low_values = entropy[low_index]\n",
    "plt.plot(high_values.numpy())"
   ]
  },
  {
   "cell_type": "markdown",
   "metadata": {},
   "source": [
    "### Correct samples, Wrong samples entropy histogram visualize"
   ]
  },
  {
   "cell_type": "code",
   "execution_count": 6,
   "metadata": {},
   "outputs": [
    {
     "name": "stdout",
     "output_type": "stream",
     "text": [
      "                 0\n",
      "count  7122.000000\n",
      "mean     -5.281605\n",
      "std       3.201368\n",
      "min     -13.851708\n",
      "25%      -7.943835\n",
      "50%      -5.617591\n",
      "75%      -2.451317\n",
      "max       0.759301\n",
      "                 0\n",
      "count  2878.000000\n",
      "mean     -2.005370\n",
      "std       2.446358\n",
      "min     -12.578241\n",
      "25%      -3.053679\n",
      "50%      -1.089867\n",
      "75%      -0.250885\n",
      "max       0.892242\n"
     ]
    },
    {
     "data": {
      "text/plain": [
       "(array([  1.,   1.,   1.,   0.,   1.,   0.,   0.,   1.,   0.,   0.,   0.,\n",
       "          0.,   0.,   2.,   1.,   3.,   1.,   3.,   3.,   2.,   4.,   7.,\n",
       "          3.,   4.,   3.,   7.,   6.,   5.,   8.,   5.,   5.,   7.,   9.,\n",
       "          4.,  17.,   9.,   8.,  10.,  11.,  10.,  10.,  10.,  11.,   7.,\n",
       "         12.,  17.,  15.,   8.,  13.,  14.,  19.,  18.,  15.,  12.,  15.,\n",
       "         15.,  21.,  19.,  20.,  18.,  22.,  23.,  18.,  28.,  23.,  24.,\n",
       "         21.,  29.,  34.,  20.,  39.,  28.,  29.,  43.,  41.,  36.,  40.,\n",
       "         63.,  46.,  55.,  53.,  65.,  52.,  68.,  65.,  76.,  94.,  95.,\n",
       "        115., 154., 136., 140., 113., 130., 135., 121.,  73.,  49.,  23.,\n",
       "          8.]),\n",
       " array([-12.57824135, -12.44353676, -12.30883121, -12.17412663,\n",
       "        -12.03942204, -11.90471745, -11.7700119 , -11.63530731,\n",
       "        -11.50060272, -11.36589813, -11.23119259, -11.096488  ,\n",
       "        -10.96178341, -10.82707882, -10.69237328, -10.55766869,\n",
       "        -10.4229641 , -10.28825951, -10.15355396, -10.01884937,\n",
       "         -9.88414478,  -9.74944019,  -9.61473465,  -9.48003006,\n",
       "         -9.34532547,  -9.21062088,  -9.07591534,  -8.94121075,\n",
       "         -8.80650616,  -8.67180157,  -8.53709602,  -8.40239143,\n",
       "         -8.26768684,  -8.13298225,  -7.99827671,  -7.86357212,\n",
       "         -7.72886705,  -7.59416246,  -7.4594574 ,  -7.32475281,\n",
       "         -7.19004774,  -7.05534315,  -6.92063808,  -6.78593349,\n",
       "         -6.65122843,  -6.51652384,  -6.38181877,  -6.24711418,\n",
       "         -6.11240911,  -5.97770452,  -5.84299946,  -5.70829487,\n",
       "         -5.5735898 ,  -5.43888521,  -5.30418015,  -5.16947556,\n",
       "         -5.03477049,  -4.9000659 ,  -4.76536083,  -4.63065624,\n",
       "         -4.49595118,  -4.36124659,  -4.22654152,  -4.09183693,\n",
       "         -3.95713186,  -3.82242703,  -3.68772221,  -3.55301738,\n",
       "         -3.41831255,  -3.28360772,  -3.14890289,  -3.01419806,\n",
       "         -2.87949324,  -2.74478841,  -2.61008358,  -2.47537875,\n",
       "         -2.34067392,  -2.2059691 ,  -2.07126427,  -1.93655932,\n",
       "         -1.80185449,  -1.66714966,  -1.53244483,  -1.39774001,\n",
       "         -1.26303518,  -1.12833035,  -0.99362552,  -0.85892069,\n",
       "         -0.72421581,  -0.58951098,  -0.45480615,  -0.32010132,\n",
       "         -0.18539649,  -0.05069165,   0.08401318,   0.21871802,\n",
       "          0.35342285,   0.48812768,   0.62283254,   0.75753736,\n",
       "          0.89224219]),\n",
       " [<matplotlib.patches.Polygon at 0x7f01f5ee6df0>])"
      ]
     },
     "execution_count": 6,
     "metadata": {},
     "output_type": "execute_result"
    },
    {
     "data": {
      "image/png": "[encoded data removed]",
      "text/plain": [
       "<Figure size 640x480 with 1 Axes>"
      ]
     },
     "metadata": {},
     "output_type": "display_data"
    }
   ],
   "source": [
    "import pandas as pd\n",
    "\n",
    "data_dir = \"/gallery_tate/wonjae.roh/cifar10c\"\n",
    "labels_path = data_dir + '/labels.npy'\n",
    "labels = np.load(labels_path)\n",
    "# labels는 10000 sample, 5 severity에 대해 10000개의 같은 label이 5번 반복되는 형태이므로 잘라준다\n",
    "labels = labels[:10000]\n",
    "\n",
    "predicted = outputs.argmax(axis=1).numpy()\n",
    "\n",
    "correct = predicted==labels\n",
    "wrong = ~correct\n",
    "entropy_numpy = entropy.numpy()\n",
    "\n",
    "correct_entropy = entropy_numpy[correct]\n",
    "wrong_entropy = entropy_numpy[wrong]\n",
    "\n",
    "correct_describe = pd.DataFrame(correct_entropy)\n",
    "print(correct_describe.describe())\n",
    "wrong_describe = pd.DataFrame(wrong_entropy)\n",
    "print(wrong_describe.describe())\n",
    "\n",
    "plt.hist(correct_describe, bins=100, density=False, alpha=0.5, histtype='stepfilled', color='orange', edgecolor='none')\n",
    "plt.hist(wrong_describe, bins=100, density=False, alpha=0.5, histtype='stepfilled', color='steelblue', edgecolor='none')"
   ]
  },
  {
   "cell_type": "code",
   "execution_count": 7,
   "metadata": {},
   "outputs": [
    {
     "name": "stdout",
     "output_type": "stream",
     "text": [
      "high entropy accuracy : 0    0.523819\n",
      "dtype: float64\n",
      "low entropy accuracy : 0    0.895599\n",
      "dtype: float64\n"
     ]
    }
   ],
   "source": [
    "threshold = -4.0\n",
    "\n",
    "correct_high = np.sum(correct_describe > threshold)\n",
    "correct_low = np.sum(correct_describe < threshold)\n",
    "wrong_high = np.sum(wrong_describe > threshold)\n",
    "wrong_low = np.sum(wrong_describe < threshold)\n",
    "\n",
    "print(f'high entropy accuracy : {correct_high / (correct_high + wrong_high)}') \n",
    "print(f'low entropy accuracy : {correct_low / (correct_low + wrong_low)}')"
   ]
  },
  {
   "cell_type": "markdown",
   "metadata": {},
   "source": [
    "### Dataloader (low_entropy, high_entropy, all)"
   ]
  },
  {
   "cell_type": "code",
   "execution_count": 8,
   "metadata": {},
   "outputs": [],
   "source": [
    "def get_subset(x, y, indices, shuffle=False):\n",
    "    \"\"\"get subset of data from indices\n",
    "    Args:\n",
    "    x: data\n",
    "    y: labels\n",
    "    indices: indices to get subset\n",
    "    Returns:\n",
    "    subset of data and labels\n",
    "    \"\"\"\n",
    "    x_sub = x[indices]\n",
    "    y_sub = y[indices]\n",
    "\n",
    "    if shuffle:\n",
    "        rand_idx = np.random.permutation(np.arange(len(x_sub)))\n",
    "        x_sub, y_sub = x_sub[rand_idx], y_sub[rand_idx]\n",
    "\n",
    "    return x_sub, y_sub\n",
    "        \n",
    "x_low, y_low = get_subset(x_test, y_test, low_index, shuffle=True)\n",
    "x_high, y_high = get_subset(x_test, y_test, high_index, shuffle=True)     "
   ]
  },
  {
   "cell_type": "markdown",
   "metadata": {},
   "source": [
    "### adaptation with suitable dataset (all)"
   ]
  },
  {
   "cell_type": "code",
   "execution_count": 28,
   "metadata": {},
   "outputs": [],
   "source": [
    "def vis_entropy_histogram(outputs, labels):\n",
    "    entropy = tent.softmax_entropy(outputs)\n",
    "    entropy = torch.log2(entropy)\n",
    "    entropy_numpy = entropy.numpy()\n",
    "    labels = labels.numpy()\n",
    "\n",
    "    predicted = outputs.argmax(axis=1).numpy()\n",
    "\n",
    "    correct = predicted==labels\n",
    "    wrong = ~correct\n",
    "\n",
    "    correct_entropy = entropy_numpy[correct]\n",
    "    wrong_entropy = entropy_numpy[wrong]\n",
    "\n",
    "\n",
    "    correct_describe = pd.DataFrame(correct_entropy)\n",
    "    print(correct_describe.describe())\n",
    "    wrong_describe = pd.DataFrame(wrong_entropy)\n",
    "    print(wrong_describe.describe())\n",
    "\n",
    "    plt.hist(correct_describe, bins=100, density=False, alpha=0.5, histtype='stepfilled', color='orange', edgecolor='none')\n",
    "    plt.hist(wrong_describe, bins=100, density=False, alpha=0.5, histtype='stepfilled', color='steelblue', edgecolor='none')"
   ]
  },
  {
   "cell_type": "code",
   "execution_count": null,
   "metadata": {},
   "outputs": [],
   "source": [
    "if cfg.MODEL.ADAPTATION == \"tent\":\n",
    "    logger.info(\"test-time adaptation: TENT\")\n",
    "    model = setup_tent(base_model)\n",
    "elif cfg.MODEL.ADAPTATION == \"source\":\n",
    "    logger.info(\"test-time adaptation: SOURCE\")\n",
    "    model = setup_source(base_model)"
   ]
  },
  {
   "cell_type": "code",
   "execution_count": 34,
   "metadata": {},
   "outputs": [
    {
     "name": "stdout",
     "output_type": "stream",
     "text": [
      "error : 0.1559\n"
     ]
    }
   ],
   "source": [
    "model.reset()\n",
    "\n",
    "# check if it only prints desirable updating parameters\n",
    "# check_freeze(model.model)\n",
    "\n",
    "# adapt on low entropy samples\n",
    "acc_total, outputs_total = get_stats(model, x_test, y_test, cfg.TEST.BATCH_SIZE, device=device,\n",
    "                                        iteration=1,\n",
    "                                        corruption_type=cfg.CORRUPTION.TYPE,\n",
    "                                        return_raw=True, no_grad=False)\n",
    "print(f'error : {(1-acc_total):.4f}')  "
   ]
  },
  {
   "cell_type": "markdown",
   "metadata": {},
   "source": [
    "### adaptation with suitable dataset (low)"
   ]
  },
  {
   "cell_type": "code",
   "execution_count": 13,
   "metadata": {},
   "outputs": [
    {
     "name": "stdout",
     "output_type": "stream",
     "text": [
      "low_error : 0.0764\n",
      "high_error : 0.2418\n",
      "total_error : 0.1591\n"
     ]
    }
   ],
   "source": [
    "model.reset()\n",
    "\n",
    "# check if it only prints desirable updating parameters\n",
    "# check_freeze(model.model)\n",
    "\n",
    "# adapt on low entropy samples\n",
    "acc_low, outputs_low = get_stats(model, x_low, y_low, cfg.TEST.BATCH_SIZE, device=device,\n",
    "                                        iteration=1,\n",
    "                                        corruption_type=cfg.CORRUPTION.TYPE,\n",
    "                                        return_raw=True, no_grad=False)\n",
    "print(f'low_error : {(1-acc_low):.4f}')  \n",
    "\n",
    "# without updating, check on high entropy samples\n",
    "acc_high, outputs_high = get_stats(model, x_high, y_high, cfg.TEST.BATCH_SIZE, device=device,\n",
    "                                        iteration=1,\n",
    "                                        corruption_type=cfg.CORRUPTION.TYPE,\n",
    "                                        return_raw=True, no_grad=True) \n",
    "print(f'high_error : {(1-acc_high):.4f}')  \n",
    "acc_total = (acc_low + acc_high) / 2\n",
    "print(f'total_error : {(1-acc_total):.4f}') \n"
   ]
  },
  {
   "cell_type": "code",
   "execution_count": 29,
   "metadata": {},
   "outputs": [
    {
     "name": "stdout",
     "output_type": "stream",
     "text": [
      "                 0\n",
      "count  4618.000000\n",
      "mean     -5.336160\n",
      "std       2.229249\n",
      "min     -11.184581\n",
      "25%      -6.898446\n",
      "50%      -5.756617\n",
      "75%      -4.145475\n",
      "max       1.097647\n",
      "                0\n",
      "count  382.000000\n",
      "mean    -1.061836\n",
      "std      1.731994\n",
      "min     -7.107047\n",
      "25%     -1.744670\n",
      "50%     -0.482396\n",
      "75%      0.138769\n",
      "max      1.109642\n"
     ]
    },
    {
     "data": {
      "image/png": "[encoded data removed]",
      "text/plain": [
       "<Figure size 640x480 with 1 Axes>"
      ]
     },
     "metadata": {},
     "output_type": "display_data"
    }
   ],
   "source": [
    "vis_entropy_histogram(outputs_low, y_low)"
   ]
  },
  {
   "cell_type": "code",
   "execution_count": 30,
   "metadata": {},
   "outputs": [
    {
     "name": "stdout",
     "output_type": "stream",
     "text": [
      "                 0\n",
      "count  3791.000000\n",
      "mean     -3.519453\n",
      "std       2.297688\n",
      "min     -10.565940\n",
      "25%      -5.216831\n",
      "50%      -3.509037\n",
      "75%      -1.538990\n",
      "max       0.841251\n",
      "                 0\n",
      "count  1209.000000\n",
      "mean     -1.159610\n",
      "std       1.564542\n",
      "min      -8.851754\n",
      "25%      -1.798515\n",
      "50%      -0.646965\n",
      "75%      -0.077941\n",
      "max       1.103291\n"
     ]
    },
    {
     "data": {
      "image/png": "[encoded data removed]",
      "text/plain": [
       "<Figure size 640x480 with 1 Axes>"
      ]
     },
     "metadata": {},
     "output_type": "display_data"
    }
   ],
   "source": [
    "vis_entropy_histogram(outputs_high, y_high)"
   ]
  },
  {
   "cell_type": "markdown",
   "metadata": {},
   "source": [
    "### adaptation with suitable dataset (high)"
   ]
  },
  {
   "cell_type": "code",
   "execution_count": 31,
   "metadata": {},
   "outputs": [
    {
     "name": "stdout",
     "output_type": "stream",
     "text": [
      "high_error : 0.2548\n",
      "low_error : 0.0780\n",
      "total_error : 0.1664\n"
     ]
    }
   ],
   "source": [
    "model.reset()\n",
    "\n",
    "# check if it only prints desirable updating parameters\n",
    "# check_freeze(model.model)\n",
    "\n",
    "# adapt on low entropy samples\n",
    "acc_high, outputs_high = get_stats(model, x_high, y_high, cfg.TEST.BATCH_SIZE, device=device,\n",
    "                                        iteration=1,\n",
    "                                        corruption_type=cfg.CORRUPTION.TYPE,\n",
    "                                        return_raw=True, no_grad=False)\n",
    "print(f'high_error : {(1-acc_high):.4f}')  \n",
    "\n",
    "# without updating, check on high entropy samples\n",
    "acc_low, outputs_low = get_stats(model, x_low, y_low, cfg.TEST.BATCH_SIZE, device=device,\n",
    "                                        iteration=1,\n",
    "                                        corruption_type=cfg.CORRUPTION.TYPE,\n",
    "                                        return_raw=True, no_grad=True) \n",
    "print(f'low_error : {(1-acc_low):.4f}')  \n",
    "acc_total = (acc_low + acc_high) / 2\n",
    "print(f'total_error : {(1-acc_total):.4f}') "
   ]
  },
  {
   "cell_type": "code",
   "execution_count": 32,
   "metadata": {},
   "outputs": [
    {
     "name": "stdout",
     "output_type": "stream",
     "text": [
      "                 0\n",
      "count  4610.000000\n",
      "mean     -5.877739\n",
      "std       2.243865\n",
      "min     -11.735182\n",
      "25%      -7.423033\n",
      "50%      -6.321649\n",
      "75%      -4.757614\n",
      "max       0.913978\n",
      "                0\n",
      "count  390.000000\n",
      "mean    -1.279261\n",
      "std      1.802009\n",
      "min     -7.803334\n",
      "25%     -1.980611\n",
      "50%     -0.642266\n",
      "75%     -0.062561\n",
      "max      1.063292\n"
     ]
    },
    {
     "data": {
      "image/png": "[encoded data removed]",
      "text/plain": [
       "<Figure size 640x480 with 1 Axes>"
      ]
     },
     "metadata": {},
     "output_type": "display_data"
    }
   ],
   "source": [
    "vis_entropy_histogram(outputs_low, y_low)"
   ]
  },
  {
   "cell_type": "code",
   "execution_count": 33,
   "metadata": {},
   "outputs": [
    {
     "name": "stdout",
     "output_type": "stream",
     "text": [
      "                 0\n",
      "count  3726.000000\n",
      "mean     -3.223583\n",
      "std       2.314302\n",
      "min     -11.859081\n",
      "25%      -4.926802\n",
      "50%      -3.143280\n",
      "75%      -1.192403\n",
      "max       1.087785\n",
      "                 0\n",
      "count  1274.000000\n",
      "mean     -0.779290\n",
      "std       1.332838\n",
      "min      -7.336551\n",
      "25%      -1.287010\n",
      "50%      -0.416840\n",
      "75%       0.117646\n",
      "max       1.164338\n"
     ]
    },
    {
     "data": {
      "image/png": "[encoded data removed]",
      "text/plain": [
       "<Figure size 640x480 with 1 Axes>"
      ]
     },
     "metadata": {},
     "output_type": "display_data"
    }
   ],
   "source": [
    "vis_entropy_histogram(outputs_high, y_high)"
   ]
  },
  {
   "cell_type": "markdown",
   "metadata": {},
   "source": [
    "어째서 이런 결과가?????\n",
    "- entropy를 minimize하는 것은 현재로서 가장 확률이 높아보이는 class를 pseudo label로 하여 supervision 하는 것과는 차이가 있다\n",
    "- entropy를 minimize하려면 현재 가장 확률이 높아보이는 class로 가야만 하는 것이 아니고 10가지의 가능성 중 어디로 가도 상관이 없이 목표를 이룰 수 있다\n",
    "- 이런 자유도가 남아있기 때문에 batch안의 모든 sample들 (low entropy sample 포함) 이 모두 공동의 목표를 이룰 수 있는 방향으로 향하기 때문에 어느정도의 robustness가 확보되는것이 아닐까?\n",
    "\n",
    "- 그러나 위와 같은 설명으로는 고작 50%정도의 label accuracy를 가지는 high entropy sample들에 대해서만 학습했을 때에도 결과가 16%정도로 꽤 잘나오는 것은 설명할 수 없다."
   ]
  }
 ],
 "metadata": {
  "kernelspec": {
   "display_name": "TENT",
   "language": "python",
   "name": "python3"
  },
  "language_info": {
   "codemirror_mode": {
    "name": "ipython",
    "version": 3
   },
   "file_extension": ".py",
   "mimetype": "text/x-python",
   "name": "python",
   "nbconvert_exporter": "python",
   "pygments_lexer": "ipython3",
   "version": "3.8.16"
  },
  "orig_nbformat": 4
 },
 "nbformat": 4,
 "nbformat_minor": 2
}
