{
 "cells": [
  {
   "cell_type": "code",
   "execution_count": 11,
   "metadata": {},
   "outputs": [],
   "source": [
    "import numpy as np\n",
    "\n",
    "corruption_type = 'gaussian_noise'\n",
    "#save_dir = f'./noadapt_stats/{corruption_type}.npy'\n",
    "weight_save_dir = f'./weights/source_weight.npy'\n",
    "bias_save_dir = f'./weights/source_bias.npy'\n",
    "freeze_weight_save_dir = f'./weights/freeze_bias_iter100_weight.npy'\n",
    "freeze_bias_save_dir = f'./weights/freeze_bias_iter100_bias.npy'\n",
    "no_weight_save_dir = f'./weights/no_bias_iter100_weight.npy'\n",
    "no_bias_save_dir = f'./weights/no_bias_iter100_bias.npy'\n",
    "\n",
    "weight = np.load(weight_save_dir)\n",
    "bias = np.load(bias_save_dir)\n",
    "freeze_weight = np.load(freeze_weight_save_dir)\n",
    "freeze_bias = np.load(freeze_bias_save_dir)\n",
    "no_weight = np.load(no_weight_save_dir)\n",
    "no_bias = np.load(no_bias_save_dir)\n"
   ]
  },
  {
   "cell_type": "code",
   "execution_count": 20,
   "metadata": {},
   "outputs": [
    {
     "data": {
      "text/plain": [
       "array([ 0.3957101,  2.5860653, -1.4177265, -0.5784915,  1.8497008,\n",
       "        1.6866195,  0.7328219,  0.3450875, -4.590432 , -2.4001725],\n",
       "      dtype=float32)"
      ]
     },
     "execution_count": 20,
     "metadata": {},
     "output_type": "execute_result"
    }
   ],
   "source": [
    "no_weight[0][:10]"
   ]
  },
  {
   "cell_type": "code",
   "execution_count": 21,
   "metadata": {},
   "outputs": [
    {
     "data": {
      "text/plain": [
       "array([ 0.321684  ,  0.3928798 , -0.30296835, -0.00269502,  0.19017825,\n",
       "       -0.29359615, -0.06667673, -0.2393103 , -0.02019374, -0.1878651 ],\n",
       "      dtype=float32)"
      ]
     },
     "execution_count": 21,
     "metadata": {},
     "output_type": "execute_result"
    }
   ],
   "source": [
    "weight[0][:10]"
   ]
  },
  {
   "cell_type": "code",
   "execution_count": 36,
   "metadata": {},
   "outputs": [
    {
     "data": {
      "text/plain": [
       "1.8846377"
      ]
     },
     "execution_count": 36,
     "metadata": {},
     "output_type": "execute_result"
    }
   ],
   "source": [
    "np.abs(no_weight[9]).mean()"
   ]
  },
  {
   "cell_type": "code",
   "execution_count": 1,
   "metadata": {},
   "outputs": [],
   "source": [
    "import torch\n",
    "\n",
    "loss_fn = torch.nn.CrossEntropyLoss()\n",
    "\n",
    "outputs = torch.rand(100,10)\n",
    "# adapt\n",
    "pseudo_label = outputs.argmax(1).detach()\n",
    "loss = loss_fn(outputs, pseudo_label)\n",
    "#loss.backward()\n"
   ]
  },
  {
   "cell_type": "code",
   "execution_count": 1,
   "metadata": {},
   "outputs": [
    {
     "name": "stdout",
     "output_type": "stream",
     "text": [
      "cpu\n"
     ]
    }
   ],
   "source": [
    "import torch\n",
    "\n",
    "device = torch.device(\"cuda\" if torch.cuda.is_available() else \"cpu\")\n",
    "\n",
    "print(device)"
   ]
  }
 ],
 "metadata": {
  "kernelspec": {
   "display_name": "TENT",
   "language": "python",
   "name": "python3"
  },
  "language_info": {
   "codemirror_mode": {
    "name": "ipython",
    "version": 3
   },
   "file_extension": ".py",
   "mimetype": "text/x-python",
   "name": "python",
   "nbconvert_exporter": "python",
   "pygments_lexer": "ipython3",
   "version": "3.8.16"
  },
  "orig_nbformat": 4
 },
 "nbformat": 4,
 "nbformat_minor": 2
}
